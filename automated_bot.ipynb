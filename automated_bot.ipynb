{
  "nbformat": 4,
  "nbformat_minor": 0,
  "metadata": {
    "colab": {
      "name": "automated_bot",
      "provenance": [],
      "collapsed_sections": [],
      "authorship_tag": "ABX9TyPcg07ZqHw2YjmQX4lN3Wbg",
      "include_colab_link": true
    },
    "kernelspec": {
      "name": "python3",
      "display_name": "Python 3"
    },
    "language_info": {
      "name": "python"
    }
  },
  "cells": [
    {
      "cell_type": "markdown",
      "metadata": {
        "id": "view-in-github",
        "colab_type": "text"
      },
      "source": [
        "<a href=\"https://colab.research.google.com/github/Kavitha1702/Upskillz/blob/main/automated_bot.ipynb\" target=\"_parent\"><img src=\"https://colab.research.google.com/assets/colab-badge.svg\" alt=\"Open In Colab\"/></a>"
      ]
    },
    {
      "cell_type": "code",
      "execution_count": null,
      "metadata": {
        "colab": {
          "base_uri": "https://localhost:8080/"
        },
        "id": "y2goCXrBpQ_f",
        "outputId": "5b03bd74-f59c-4163-bec9-68fb438d7e0f"
      },
      "outputs": [
        {
          "output_type": "stream",
          "name": "stdout",
          "text": [
            "Looking in indexes: https://pypi.org/simple, https://us-python.pkg.dev/colab-wheels/public/simple/\n",
            "Collecting newspaper3k\n",
            "  Downloading newspaper3k-0.2.8-py3-none-any.whl (211 kB)\n",
            "\u001b[K     |████████████████████████████████| 211 kB 9.1 MB/s \n",
            "\u001b[?25hRequirement already satisfied: Pillow>=3.3.0 in /usr/local/lib/python3.7/dist-packages (from newspaper3k) (7.1.2)\n",
            "Collecting cssselect>=0.9.2\n",
            "  Downloading cssselect-1.1.0-py2.py3-none-any.whl (16 kB)\n",
            "Collecting jieba3k>=0.35.1\n",
            "  Downloading jieba3k-0.35.1.zip (7.4 MB)\n",
            "\u001b[K     |████████████████████████████████| 7.4 MB 27.0 MB/s \n",
            "\u001b[?25hRequirement already satisfied: python-dateutil>=2.5.3 in /usr/local/lib/python3.7/dist-packages (from newspaper3k) (2.8.2)\n",
            "Collecting tinysegmenter==0.3\n",
            "  Downloading tinysegmenter-0.3.tar.gz (16 kB)\n",
            "Collecting feedparser>=5.2.1\n",
            "  Downloading feedparser-6.0.10-py3-none-any.whl (81 kB)\n",
            "\u001b[K     |████████████████████████████████| 81 kB 11.1 MB/s \n",
            "\u001b[?25hCollecting tldextract>=2.0.1\n",
            "  Downloading tldextract-3.3.0-py3-none-any.whl (93 kB)\n",
            "\u001b[K     |████████████████████████████████| 93 kB 2.3 MB/s \n",
            "\u001b[?25hCollecting feedfinder2>=0.0.4\n",
            "  Downloading feedfinder2-0.0.4.tar.gz (3.3 kB)\n",
            "Requirement already satisfied: PyYAML>=3.11 in /usr/local/lib/python3.7/dist-packages (from newspaper3k) (3.13)\n",
            "Requirement already satisfied: lxml>=3.6.0 in /usr/local/lib/python3.7/dist-packages (from newspaper3k) (4.2.6)\n",
            "Requirement already satisfied: nltk>=3.2.1 in /usr/local/lib/python3.7/dist-packages (from newspaper3k) (3.7)\n",
            "Requirement already satisfied: requests>=2.10.0 in /usr/local/lib/python3.7/dist-packages (from newspaper3k) (2.23.0)\n",
            "Requirement already satisfied: beautifulsoup4>=4.4.1 in /usr/local/lib/python3.7/dist-packages (from newspaper3k) (4.6.3)\n",
            "Requirement already satisfied: six in /usr/local/lib/python3.7/dist-packages (from feedfinder2>=0.0.4->newspaper3k) (1.15.0)\n",
            "Collecting sgmllib3k\n",
            "  Downloading sgmllib3k-1.0.0.tar.gz (5.8 kB)\n",
            "Requirement already satisfied: tqdm in /usr/local/lib/python3.7/dist-packages (from nltk>=3.2.1->newspaper3k) (4.64.0)\n",
            "Requirement already satisfied: joblib in /usr/local/lib/python3.7/dist-packages (from nltk>=3.2.1->newspaper3k) (1.1.0)\n",
            "Requirement already satisfied: regex>=2021.8.3 in /usr/local/lib/python3.7/dist-packages (from nltk>=3.2.1->newspaper3k) (2022.6.2)\n",
            "Requirement already satisfied: click in /usr/local/lib/python3.7/dist-packages (from nltk>=3.2.1->newspaper3k) (7.1.2)\n",
            "Requirement already satisfied: chardet<4,>=3.0.2 in /usr/local/lib/python3.7/dist-packages (from requests>=2.10.0->newspaper3k) (3.0.4)\n",
            "Requirement already satisfied: certifi>=2017.4.17 in /usr/local/lib/python3.7/dist-packages (from requests>=2.10.0->newspaper3k) (2022.5.18.1)\n",
            "Requirement already satisfied: idna<3,>=2.5 in /usr/local/lib/python3.7/dist-packages (from requests>=2.10.0->newspaper3k) (2.10)\n",
            "Requirement already satisfied: urllib3!=1.25.0,!=1.25.1,<1.26,>=1.21.1 in /usr/local/lib/python3.7/dist-packages (from requests>=2.10.0->newspaper3k) (1.24.3)\n",
            "Requirement already satisfied: filelock>=3.0.8 in /usr/local/lib/python3.7/dist-packages (from tldextract>=2.0.1->newspaper3k) (3.7.1)\n",
            "Collecting requests-file>=1.4\n",
            "  Downloading requests_file-1.5.1-py2.py3-none-any.whl (3.7 kB)\n",
            "Building wheels for collected packages: tinysegmenter, feedfinder2, jieba3k, sgmllib3k\n",
            "  Building wheel for tinysegmenter (setup.py) ... \u001b[?25l\u001b[?25hdone\n",
            "  Created wheel for tinysegmenter: filename=tinysegmenter-0.3-py3-none-any.whl size=13553 sha256=c41b33bea82755ebb30a1cf2c66702699a6df8a66731c3021c05d1167246d995\n",
            "  Stored in directory: /root/.cache/pip/wheels/df/67/41/faca10fa501ca010be41b49d40360c2959e1c4f09bcbfa37fa\n",
            "  Building wheel for feedfinder2 (setup.py) ... \u001b[?25l\u001b[?25hdone\n",
            "  Created wheel for feedfinder2: filename=feedfinder2-0.0.4-py3-none-any.whl size=3357 sha256=c97eb5ba9fa2dbee9cac317796d44f8fb10643e0492d6d7f40464659bdc64fd6\n",
            "  Stored in directory: /root/.cache/pip/wheels/7f/d4/8f/6e2ca54744c9d7292d88ddb8d42876bcdab5e6d84a21c10346\n",
            "  Building wheel for jieba3k (setup.py) ... \u001b[?25l\u001b[?25hdone\n",
            "  Created wheel for jieba3k: filename=jieba3k-0.35.1-py3-none-any.whl size=7398404 sha256=208e64ebbde216e4f0c0fdd733d5cf4b20018b5247f7fdeb703274d97b141ba6\n",
            "  Stored in directory: /root/.cache/pip/wheels/4c/91/46/3c208287b726df325a5979574324878b679116e4baae1af3c3\n",
            "  Building wheel for sgmllib3k (setup.py) ... \u001b[?25l\u001b[?25hdone\n",
            "  Created wheel for sgmllib3k: filename=sgmllib3k-1.0.0-py3-none-any.whl size=6066 sha256=ec2fcff42f271b0d8af6e74ffde4b85f2f595f6395bc2401b3d32024f41302b2\n",
            "  Stored in directory: /root/.cache/pip/wheels/73/ad/a4/0dff4a6ef231fc0dfa12ffbac2a36cebfdddfe059f50e019aa\n",
            "Successfully built tinysegmenter feedfinder2 jieba3k sgmllib3k\n",
            "Installing collected packages: sgmllib3k, requests-file, tldextract, tinysegmenter, jieba3k, feedparser, feedfinder2, cssselect, newspaper3k\n",
            "Successfully installed cssselect-1.1.0 feedfinder2-0.0.4 feedparser-6.0.10 jieba3k-0.35.1 newspaper3k-0.2.8 requests-file-1.5.1 sgmllib3k-1.0.0 tinysegmenter-0.3 tldextract-3.3.0\n"
          ]
        }
      ],
      "source": [
        "!pip install newspaper3k"
      ]
    },
    {
      "cell_type": "code",
      "source": [
        "! pip install --upgrade setuptools"
      ],
      "metadata": {
        "colab": {
          "base_uri": "https://localhost:8080/",
          "height": 350
        },
        "id": "x8H2E8lLpVvu",
        "outputId": "ddb22ff1-3654-4e66-af2c-0e02468d0a1b"
      },
      "execution_count": null,
      "outputs": [
        {
          "output_type": "stream",
          "name": "stdout",
          "text": [
            "Looking in indexes: https://pypi.org/simple, https://us-python.pkg.dev/colab-wheels/public/simple/\n",
            "Requirement already satisfied: setuptools in /usr/local/lib/python3.7/dist-packages (57.4.0)\n",
            "Collecting setuptools\n",
            "  Downloading setuptools-62.4.0-py3-none-any.whl (1.2 MB)\n",
            "\u001b[K     |████████████████████████████████| 1.2 MB 8.3 MB/s \n",
            "\u001b[?25hInstalling collected packages: setuptools\n",
            "  Attempting uninstall: setuptools\n",
            "    Found existing installation: setuptools 57.4.0\n",
            "    Uninstalling setuptools-57.4.0:\n",
            "      Successfully uninstalled setuptools-57.4.0\n",
            "\u001b[31mERROR: pip's dependency resolver does not currently take into account all the packages that are installed. This behaviour is the source of the following dependency conflicts.\n",
            "datascience 0.10.6 requires folium==0.2.1, but you have folium 0.8.3 which is incompatible.\u001b[0m\n",
            "Successfully installed setuptools-62.4.0\n"
          ]
        },
        {
          "output_type": "display_data",
          "data": {
            "application/vnd.colab-display-data+json": {
              "pip_warning": {
                "packages": [
                  "pkg_resources"
                ]
              }
            }
          },
          "metadata": {}
        }
      ]
    },
    {
      "cell_type": "code",
      "source": [
        "!pip install newspaper"
      ],
      "metadata": {
        "colab": {
          "base_uri": "https://localhost:8080/"
        },
        "id": "tBs0e11BsEcx",
        "outputId": "d9f884de-d30a-44d1-d79c-b939dbd4dc00"
      },
      "execution_count": null,
      "outputs": [
        {
          "output_type": "stream",
          "name": "stdout",
          "text": [
            "Looking in indexes: https://pypi.org/simple, https://us-python.pkg.dev/colab-wheels/public/simple/\n",
            "Collecting newspaper\n",
            "  Downloading newspaper-0.1.0.7.tar.gz (176 kB)\n",
            "\u001b[K     |████████████████████████████████| 176 kB 7.5 MB/s \n",
            "\u001b[33mWARNING: Discarding https://files.pythonhosted.org/packages/d8/07/5765cc9c36e2be1a0f0e615b7a092129e1ba30a25182506dea437290c193/newspaper-0.1.0.7.tar.gz#sha256=929ea447660d2633d3eea6c2aba703b549f7cdd56bd5cf636eb8f1454b254945 (from https://pypi.org/simple/newspaper/). Command errored out with exit status 1: python setup.py egg_info Check the logs for full command output.\u001b[0m\n",
            "\u001b[?25h  Downloading newspaper-0.1.0.6.tar.gz (176 kB)\n",
            "\u001b[K     |████████████████████████████████| 176 kB 46.6 MB/s \n",
            "\u001b[?25hCollecting beautifulsoup4==4.3.2\n",
            "  Downloading beautifulsoup4-4.3.2.tar.gz (143 kB)\n",
            "\u001b[K     |████████████████████████████████| 143 kB 54.7 MB/s \n",
            "\u001b[?25hCollecting Pillow==2.5.1\n",
            "  Downloading Pillow-2.5.1.zip (6.9 MB)\n",
            "\u001b[K     |████████████████████████████████| 6.9 MB 14.1 MB/s \n",
            "\u001b[?25hCollecting PyYAML==3.11\n",
            "  Downloading PyYAML-3.11.zip (371 kB)\n",
            "\u001b[K     |████████████████████████████████| 371 kB 40.1 MB/s \n",
            "\u001b[?25hCollecting cssselect==0.9.1\n",
            "  Downloading cssselect-0.9.1.tar.gz (32 kB)\n",
            "Collecting lxml==3.3.5\n",
            "  Downloading lxml-3.3.5.tar.gz (3.5 MB)\n",
            "\u001b[K     |████████████████████████████████| 3.5 MB 34.1 MB/s \n",
            "\u001b[?25hCollecting nltk==2.0.5\n",
            "  Downloading nltk-2.0.5.zip (1.1 MB)\n",
            "\u001b[K     |████████████████████████████████| 1.1 MB 45.8 MB/s \n",
            "\u001b[33mWARNING: Discarding https://files.pythonhosted.org/packages/61/32/c7d454c7d232034dfb492b6ef5d749b367c58e0a0f2ed4125eb4089b9227/nltk-2.0.5.zip#sha256=edbeb82d03ef6fe24d4ec8380998d23cb2e36eb43350c9f33e932fe07de42cd5 (from https://pypi.org/simple/nltk/). Command errored out with exit status 1: python setup.py egg_info Check the logs for full command output.\u001b[0m\n",
            "\u001b[?25h  Downloading nltk-2.0.5.tar.gz (954 kB)\n",
            "\u001b[K     |████████████████████████████████| 954 kB 23.5 MB/s \n",
            "\u001b[33mWARNING: Discarding https://files.pythonhosted.org/packages/50/9e/39418026bf8013bbc2852c7aec3fb21e4339f6cd694934496d67a19b53b8/nltk-2.0.5.tar.gz#sha256=590b1752fb39427ad8018a65f72355c22e8276d476699aa4a488e38c1b17889a (from https://pypi.org/simple/nltk/). Command errored out with exit status 1: python setup.py egg_info Check the logs for full command output.\u001b[0m\n",
            "\u001b[?25hCollecting newspaper\n",
            "  Downloading newspaper-0.1.0.5.tar.gz (49 kB)\n",
            "\u001b[K     |████████████████████████████████| 49 kB 6.0 MB/s \n",
            "\u001b[33mWARNING: Discarding https://files.pythonhosted.org/packages/57/21/35a7e7040e70a628b526c6830e6f506868f54dcaadffbe57cb3d393af5cb/newspaper-0.1.0.5.tar.gz#sha256=b346e615f5a0c8ac5ab1ebab2420ad24fda7fc78198cae32f1b3fed640dde788 (from https://pypi.org/simple/newspaper/). Command errored out with exit status 1: python setup.py egg_info Check the logs for full command output.\u001b[0m\n",
            "\u001b[?25h  Downloading newspaper-0.1.0.4.tar.gz (49 kB)\n",
            "\u001b[K     |████████████████████████████████| 49 kB 7.1 MB/s \n",
            "\u001b[33mWARNING: Discarding https://files.pythonhosted.org/packages/da/a3/88885ac6e2f65b84f23511da21bdd486d63d2a035d0adab6e4ef89cd4c25/newspaper-0.1.0.4.tar.gz#sha256=927edcccb7d57905fbd24fde4fb3879ffcc59d082877ac7c40963f795372cb67 (from https://pypi.org/simple/newspaper/). Command errored out with exit status 1: python setup.py egg_info Check the logs for full command output.\u001b[0m\n",
            "\u001b[?25h  Downloading newspaper-0.1.0.3.tar.gz (49 kB)\n",
            "\u001b[K     |████████████████████████████████| 49 kB 7.3 MB/s \n",
            "\u001b[33mWARNING: Discarding https://files.pythonhosted.org/packages/4f/59/140bdf8b9413c552fdfa73eb01b6622eaa8ed62ded2f390c4062b58f58bb/newspaper-0.1.0.3.tar.gz#sha256=d2eb46563c973a4046e82580d6193df42b86bff12cbfcb39e9780b0f7dc24595 (from https://pypi.org/simple/newspaper/). Command errored out with exit status 1: python setup.py egg_info Check the logs for full command output.\u001b[0m\n",
            "\u001b[?25h  Downloading newspaper-0.1.0.2.tar.gz (180 kB)\n",
            "\u001b[K     |████████████████████████████████| 180 kB 68.0 MB/s \n",
            "\u001b[?25h  Downloading newspaper-0.1.0.1.tar.gz (49 kB)\n",
            "\u001b[K     |████████████████████████████████| 49 kB 6.8 MB/s \n",
            "\u001b[33mWARNING: Discarding https://files.pythonhosted.org/packages/9c/57/e6af9770c3241725fbf7a79c6f2954988947202e2cab01cdf53457f039a8/newspaper-0.1.0.1.tar.gz#sha256=bc40cf56e35f0c6fe79b77f3a4c84a950de9f66559a51bd280e3c363796afc75 (from https://pypi.org/simple/newspaper/). Command errored out with exit status 1: python setup.py egg_info Check the logs for full command output.\u001b[0m\n",
            "\u001b[?25h  Downloading newspaper-0.1.0.0.tar.gz (49 kB)\n",
            "\u001b[K     |████████████████████████████████| 49 kB 5.1 MB/s \n",
            "\u001b[33mWARNING: Discarding https://files.pythonhosted.org/packages/be/7b/a34b526cf37727ef353ff46217173a67a598fbbf3d8dbd80b899e51af45c/newspaper-0.1.0.0.tar.gz#sha256=8c71680c09c39642be06d632149fe0e44a93ae5494e9f98c19fc79d6d21817bf (from https://pypi.org/simple/newspaper/). Command errored out with exit status 1: python setup.py egg_info Check the logs for full command output.\u001b[0m\n",
            "\u001b[?25h  Downloading newspaper-0.0.9.9.tar.gz (49 kB)\n",
            "\u001b[K     |████████████████████████████████| 49 kB 7.5 MB/s \n",
            "\u001b[33mWARNING: Discarding https://files.pythonhosted.org/packages/ad/b6/02023ed7543c280cbd18eef61502b97f63eed842a1414f7596e370a97362/newspaper-0.0.9.9.tar.gz#sha256=e2449afd697d9280c78301e4d1e385fd7d6dc73e0a4a130c35f0e909f1804402 (from https://pypi.org/simple/newspaper/). Command errored out with exit status 1: python setup.py egg_info Check the logs for full command output.\u001b[0m\n",
            "\u001b[?25h  Downloading newspaper-0.0.9.8.tar.gz (248 kB)\n",
            "\u001b[K     |████████████████████████████████| 248 kB 65.3 MB/s \n",
            "\u001b[?25h  Downloading newspaper-0.0.9.6.tar.gz (244 kB)\n",
            "\u001b[K     |████████████████████████████████| 244 kB 41.1 MB/s \n",
            "\u001b[?25hCollecting nltk==2.0.4\n",
            "  Downloading nltk-2.0.4.zip (1.1 MB)\n",
            "\u001b[K     |████████████████████████████████| 1.1 MB 46.1 MB/s \n",
            "\u001b[33mWARNING: Discarding https://files.pythonhosted.org/packages/25/a7/f8938bdf6f6d17e37e882b67f1362c0fdb6a8a609a69252b6033d6c546c5/nltk-2.0.4.zip#sha256=70936b0cf30710a1d63df152c3286af39af37b131cd176c0202e6665a8630632 (from https://pypi.org/simple/nltk/). Command errored out with exit status 1: python setup.py egg_info Check the logs for full command output.\u001b[0m\n",
            "\u001b[?25h  Downloading nltk-2.0.4.tar.gz (955 kB)\n",
            "\u001b[K     |████████████████████████████████| 955 kB 61.8 MB/s \n",
            "\u001b[33mWARNING: Discarding https://files.pythonhosted.org/packages/81/f6/30c4eb35ad7a4b5e9301943c8738b79ebb8152f0986e877f809b8e295c61/nltk-2.0.4.tar.gz#sha256=a554d6b9c5c7c8b597a090d8848a6f78c6fc4665ae43c9a6a6d6a5b207d98c65 (from https://pypi.org/simple/nltk/). Command errored out with exit status 1: python setup.py egg_info Check the logs for full command output.\u001b[0m\n",
            "\u001b[?25hCollecting newspaper\n",
            "  Downloading newspaper-0.0.9.5.tar.gz (244 kB)\n",
            "\u001b[K     |████████████████████████████████| 244 kB 46.4 MB/s \n",
            "\u001b[?25h  Downloading newspaper-0.0.9.2.tar.gz (242 kB)\n",
            "\u001b[K     |████████████████████████████████| 242 kB 56.6 MB/s \n",
            "\u001b[?25h  Downloading newspaper-0.0.9.1.tar.gz (760 kB)\n",
            "\u001b[K     |████████████████████████████████| 760 kB 53.6 MB/s \n",
            "\u001b[?25hCollecting BeautifulSoup==3.2.1\n",
            "  Downloading BeautifulSoup-3.2.1.tar.gz (31 kB)\n",
            "\u001b[33mWARNING: Discarding https://files.pythonhosted.org/packages/1e/ee/295988deca1a5a7accd783d0dfe14524867e31abb05b6c0eeceee49c759d/BeautifulSoup-3.2.1.tar.gz#sha256=6a8cb4401111e011b579c8c52a51cdab970041cc543814bbd9577a4529fe1cdb (from https://pypi.org/simple/beautifulsoup/). Command errored out with exit status 1: python setup.py egg_info Check the logs for full command output.\u001b[0m\n",
            "Collecting newspaper\n",
            "  Downloading newspaper-0.0.9.tar.gz (760 kB)\n",
            "\u001b[K     |████████████████████████████████| 760 kB 52.7 MB/s \n",
            "\u001b[?25h  Downloading newspaper-0.0.8.tar.gz (6.9 MB)\n",
            "\u001b[K     |████████████████████████████████| 6.9 MB 29.4 MB/s \n",
            "\u001b[?25hRequirement already satisfied: lxml in /usr/local/lib/python3.7/dist-packages (from newspaper) (4.2.6)\n",
            "Requirement already satisfied: requests in /usr/local/lib/python3.7/dist-packages (from newspaper) (2.23.0)\n",
            "Requirement already satisfied: nltk in /usr/local/lib/python3.7/dist-packages (from newspaper) (3.7)\n",
            "Requirement already satisfied: Pillow in /usr/local/lib/python3.7/dist-packages (from newspaper) (7.1.2)\n",
            "Requirement already satisfied: cssselect in /usr/local/lib/python3.7/dist-packages (from newspaper) (1.1.0)\n",
            "Collecting BeautifulSoup\n",
            "  Downloading BeautifulSoup-3.2.2.tar.gz (32 kB)\n",
            "\u001b[33mWARNING: Discarding https://files.pythonhosted.org/packages/40/f2/6c9f2f3e696ee6a1fb0e4d7850617e224ed2b0b1e872110abffeca2a09d4/BeautifulSoup-3.2.2.tar.gz#sha256=a04169602bff6e3138b1259dbbf491f5a27f9499dea9a8fbafd48843f9d89970 (from https://pypi.org/simple/beautifulsoup/). Command errored out with exit status 1: python setup.py egg_info Check the logs for full command output.\u001b[0m\n",
            "  Downloading BeautifulSoup-3.2.0.tar.gz (31 kB)\n",
            "\u001b[33mWARNING: Discarding https://files.pythonhosted.org/packages/33/fe/15326560884f20d792d3ffc7fe8f639aab88647c9d46509a240d9bfbb6b1/BeautifulSoup-3.2.0.tar.gz#sha256=0dc52d07516c1665c9dd9f0a390a7a054bfb7b147a50b2866fb116b8909dfd37 (from https://pypi.org/simple/beautifulsoup/). Command errored out with exit status 1: python setup.py egg_info Check the logs for full command output.\u001b[0m\n",
            "Collecting newspaper\n",
            "  Downloading newspaper-0.0.7.tar.gz (6.9 MB)\n",
            "\u001b[K     |████████████████████████████████| 6.9 MB 39.4 MB/s \n",
            "\u001b[33mWARNING: Discarding https://files.pythonhosted.org/packages/6f/ed/2a56827d9291bd27251d60bfd11affd3dce7d24ba929014bbd4975a17eca/newspaper-0.0.7.tar.gz#sha256=a29c39e9c1c142238249208aed07204047c4a0b1cdcc92138dc98953cf66f7c3 (from https://pypi.org/simple/newspaper/). Command errored out with exit status 1: python setup.py egg_info Check the logs for full command output.\u001b[0m\n",
            "\u001b[?25h  Downloading newspaper-0.0.6.tar.gz (7.0 MB)\n",
            "\u001b[K     |████████████████████████████████| 7.0 MB 1.5 MB/s \n",
            "\u001b[33mWARNING: Discarding https://files.pythonhosted.org/packages/d7/7f/ddcd5263d1fa14936786b01f62e75a4f806f98cb2255587af00ccb08b97b/newspaper-0.0.6.tar.gz#sha256=7bb92ecf4ef26dc3121b798e933dfc4cce3eb95d1d9e4ae01887231f12e30f9d (from https://pypi.org/simple/newspaper/). Command errored out with exit status 1: python setup.py egg_info Check the logs for full command output.\u001b[0m\n",
            "\u001b[?25h  Downloading newspaper-0.0.5.tar.gz (7.7 MB)\n",
            "\u001b[K     |████████████████████████████████| 7.7 MB 46.8 MB/s \n",
            "\u001b[33mWARNING: Discarding https://files.pythonhosted.org/packages/de/4b/3279534d13073ea8958edff3b97e39e853faec4436e1c9d805f9cf6e9f23/newspaper-0.0.5.tar.gz#sha256=7fe4fa9121bb07707fa2489479ab7994a056ca9cc3a848ed634d5537c7eaa0bc (from https://pypi.org/simple/newspaper/). Command errored out with exit status 1: python setup.py egg_info Check the logs for full command output.\u001b[0m\n",
            "\u001b[?25h  Downloading newspaper-0.0.4.tar.gz (6.7 MB)\n",
            "\u001b[K     |████████████████████████████████| 6.7 MB 36.9 MB/s \n",
            "\u001b[33mWARNING: Discarding https://files.pythonhosted.org/packages/44/10/cc8abed3de450ea2925601e29951eec9658a19f18572429cc29380ec7ac8/newspaper-0.0.4.tar.gz#sha256=359934ee0c47015687ac3b71d51c7d1a87e8b95ff96135bdbe5c4d2e2c20c735 (from https://pypi.org/simple/newspaper/). Command errored out with exit status 1: python setup.py egg_info Check the logs for full command output.\u001b[0m\n",
            "\u001b[?25h  Downloading newspaper-0.0.3.tar.gz (10.8 MB)\n",
            "\u001b[K     |████████████████████████████████| 10.8 MB 79 kB/s \n",
            "\u001b[?25hCollecting lxml==3.2.4\n",
            "  Downloading lxml-3.2.4.tar.gz (3.3 MB)\n",
            "\u001b[K     |████████████████████████████████| 3.3 MB 45.9 MB/s \n",
            "\u001b[?25hCollecting newspaper\n",
            "  Downloading newspaper-0.0.2.tar.gz (10.8 MB)\n",
            "\u001b[K     |████████████████████████████████| 10.8 MB 24.3 MB/s \n",
            "\u001b[33mWARNING: Discarding https://files.pythonhosted.org/packages/6f/d3/c73ee757a0d2cd493a7d1ad16482902761ca5be3a52d971bce0cbf17b6fd/newspaper-0.0.2.tar.gz#sha256=a94c0427bc20448242457873d9dddb8c872ce82a6fb342b90b72bec790a117ab (from https://pypi.org/simple/newspaper/). Command errored out with exit status 1: python setup.py egg_info Check the logs for full command output.\u001b[0m\n",
            "\u001b[31mERROR: Cannot install newspaper==0.0.3, newspaper==0.0.8, newspaper==0.0.9, newspaper==0.0.9.1, newspaper==0.0.9.2, newspaper==0.0.9.5, newspaper==0.0.9.6, newspaper==0.0.9.8, newspaper==0.1.0.2 and newspaper==0.1.0.6 because these package versions have conflicting dependencies.\u001b[0m\n",
            "\u001b[?25h\n",
            "The conflict is caused by:\n",
            "    newspaper 0.1.0.6 depends on nltk==2.0.5\n",
            "    newspaper 0.1.0.2 depends on nltk==2.0.5\n",
            "    newspaper 0.0.9.8 depends on nltk==2.0.5\n",
            "    newspaper 0.0.9.6 depends on nltk==2.0.4\n",
            "    newspaper 0.0.9.5 depends on nltk==2.0.4\n",
            "    newspaper 0.0.9.2 depends on nltk==2.0.4\n",
            "    newspaper 0.0.9.1 depends on BeautifulSoup==3.2.1\n",
            "    newspaper 0.0.9 depends on BeautifulSoup==3.2.1\n",
            "    newspaper 0.0.8 depends on BeautifulSoup\n",
            "    newspaper 0.0.3 depends on BeautifulSoup\n",
            "\n",
            "To fix this you could try to:\n",
            "1. loosen the range of package versions you've specified\n",
            "2. remove package versions to allow pip attempt to solve the dependency conflict\n",
            "\n",
            "\u001b[31mERROR: ResolutionImpossible: for help visit https://pip.pypa.io/en/latest/user_guide/#fixing-conflicting-dependencies\u001b[0m\n"
          ]
        }
      ]
    },
    {
      "cell_type": "code",
      "source": [
        "import nltk\n",
        "from sklearn.feature_extraction.text import CountVectorizer\n",
        "import numpy as np\n",
        "from newspaper import Article\n",
        "from sklearn.metrics.pairwise import cosine_similarity\n",
        "import string\n",
        "import random\n",
        "import warnings"
      ],
      "metadata": {
        "id": "LkVG0bspsOM4"
      },
      "execution_count": null,
      "outputs": []
    },
    {
      "cell_type": "code",
      "source": [
        "nltk.download('punkt',quiet=True)"
      ],
      "metadata": {
        "colab": {
          "base_uri": "https://localhost:8080/"
        },
        "id": "JB4_FNXcs5Qn",
        "outputId": "238d021d-8083-4928-a934-15567d7b21f2"
      },
      "execution_count": null,
      "outputs": [
        {
          "output_type": "execute_result",
          "data": {
            "text/plain": [
              "True"
            ]
          },
          "metadata": {},
          "execution_count": 3
        }
      ]
    },
    {
      "cell_type": "code",
      "source": [
        "article=Article(\"https://en.wikipedia.org/wiki/BTS\")"
      ],
      "metadata": {
        "id": "_aB1Fsi1tgYw"
      },
      "execution_count": null,
      "outputs": []
    },
    {
      "cell_type": "code",
      "source": [
        "article.download()"
      ],
      "metadata": {
        "id": "6FH3VpS3t062"
      },
      "execution_count": null,
      "outputs": []
    },
    {
      "cell_type": "code",
      "source": [
        "article.parse()"
      ],
      "metadata": {
        "id": "mo305ohit5wd"
      },
      "execution_count": null,
      "outputs": []
    },
    {
      "cell_type": "code",
      "source": [
        "article.nlp()"
      ],
      "metadata": {
        "id": "x7k_iMnht8nU"
      },
      "execution_count": null,
      "outputs": []
    },
    {
      "cell_type": "code",
      "source": [
        "corpus=article.text"
      ],
      "metadata": {
        "id": "f31bnMZ_t-j8"
      },
      "execution_count": null,
      "outputs": []
    },
    {
      "cell_type": "code",
      "source": [
        "print(corpus)"
      ],
      "metadata": {
        "colab": {
          "base_uri": "https://localhost:8080/"
        },
        "id": "EDCaGewUuCdZ",
        "outputId": "e9bea873-726c-42a4-d5bc-b56b50b3bfa4"
      },
      "execution_count": null,
      "outputs": [
        {
          "output_type": "stream",
          "name": "stdout",
          "text": [
            "South Korean boy band\n",
            "\n",
            "This article is about the musical group. For other uses, see BTS (disambiguation)\n",
            "\n",
            "BTS (Korean: 방탄소년단; RR: Bangtan Sonyeondan), also known as the Bangtan Boys, is a South Korean boy band that was formed in 2010 and debuted in 2013 under Big Hit Entertainment.[5] The septet—consisting of members Jin, Suga, J-Hope, RM, Jimin, V, and Jungkook—co-writes and co-produces much of their own output. Originally a hip hop group, their musical style has evolved to include a wide range of genres. Their lyrics, often focused on personal and social commentary, touch on the themes of mental health, troubles of school-age youth and coming of age, loss, the journey towards loving oneself, and individualism. Their work also often references literature and psychological concepts and includes an alternative universe storyline.\n",
            "\n",
            "After debuting in 2013 with their single album 2 Cool 4 Skool, BTS released their first Korean-language studio album, Dark & Wild, and Japanese-language studio album, Wake Up, in 2014. The group's second Korean studio album, Wings (2016), was their first to sell one million copies in South Korea. By 2017, BTS crossed into the global music market, leading the Korean Wave into the United States and breaking numerous sales records. They became the first Korean group to receive a certification from the Recording Industry Association of America (RIAA) for their single \"Mic Drop\", as well as the first Korean act to top the US Billboard 200 with their studio album Love Yourself: Tear (2018). BTS became one of the few groups since the Beatles to earn four US number-one albums in less than two years, and Love Yourself: Answer (2018) was the first Korean album certified Platinum by the RIAA. In 2020, BTS became the first all-South Korean act to reach number one on the Billboard Global 200 and US Billboard Hot 100 with their Grammy-nominated single \"Dynamite\". Their follow-up releases \"Savage Love\", \"Life Goes On\", \"Butter\", and \"Permission to Dance\" made BTS the act quickest to accumulate five US number-one singles since Michael Jackson.\n",
            "\n",
            "Having sold over 32 million albums on the Gaon Music Chart, BTS is the best-selling artist in South Korean history and holds the best-selling album in South Korea with Map of the Soul: 7. They are the first Asian and non-English speaking act to be named the International Federation of the Phonographic Industry's (IFPI) Global Recording Artist of the Year (2020–2021), to chart on Billboard's Top Touring Artists of the 2010s (placing at number 45), and to headline and sell out Wembley Stadium and the Rose Bowl (Love Yourself World Tour in 2019). Featured on Time's international cover as \"Next Generation Leaders\" and dubbed \"Princes of Pop\", BTS has also appeared on the magazine's lists of the 25 most influential people on the internet (2017–2019) and the 100 most influential people in the world (2019). The group's numerous accolades include six American Music Awards, 12 Billboard Music Awards, 24 Golden Disk Awards, and nominations for two Grammy Awards and two Brit Awards. Outside of music, they partnered with UNICEF to establish the Love Myself anti-violence campaign, addressed three sessions of the United Nations General Assembly, and became the youngest ever recipients of the Order of Cultural Merit from the President of South Korea due to their contributions in spreading Korean culture and language.\n",
            "\n",
            "Name\n",
            "\n",
            "The group's name, BTS, stands for the Korean phrase Bangtan Sonyeondan (Korean: 방탄소년단; Hanja: 防彈|少年|團), literally meaning \"Bulletproof Boy Scouts\". According to member J-Hope, the name signifies the group's desire \"to block out stereotypes, criticisms, and expectations that aim on adolescents like bullets\".[6][7] In Japan, they are known as Bōdan Shōnendan (防弾少年団), which translates similarly.[8] In July 2017, BTS announced that their name would also stand for \"Beyond the Scene\" as part of their new brand identity.[9] This extended their name to mean \"growing youth BTS who is going beyond the realities they are facing, and going forward.\"[10]\n",
            "\n",
            "BTS in 2013 performing at the Incheon Music Center\n",
            "\n",
            "Career\n",
            "\n",
            "2010–2014: Formation and early years\n",
            "\n",
            "BTS was formed in 2010 after Big Hit Entertainment CEO Bang Si-hyuk met RM and was impressed by his rapping skills.[11] BTS was originally supposed to be a hip hop group similar to YG Entertainment's 1TYM,[12] but soon after the group was created, Bang Si-hyuk decided to create an idol group similar to Seo Taiji and Boys, a group which was popular in the 90's. However, unlike Seo Taiji's music, BTS' songs were less socially conscious, given the strict regulation of K-pop bands at the time of the group's formation.[13] Originally slated to debut in 2011, the group featured on several tracks by artists like 2AM and Lee Seung-gi before their debut was postponed. They were later reorganized into a more traditional idol group.[14] Six months prior to their debut, they began to gain attention for their presence on various social media websites, as well as song covers on YouTube and SoundCloud.[15][16]\n",
            "\n",
            "We started to tell the stories that people wanted to hear and were ready to hear, stories that other people could not or would not tell. We said what other people were feeling—like pain, anxieties and worries. That was our goal, to create this empathy that people can relate to. —Suga[17]\n",
            "\n",
            "On June 12, 2013, BTS released their debut single album 2 Cool 4 Skool (the first entry in their \"school trilogy\" series), along with the lead single \"No More Dream\", which quickly fell off the charts.[18][19] The album, however, reached the top five in South Korea on the Gaon Music Chart.[20] Their subsequent single, \"We Are Bulletproof Pt. 2\", failed to chart. In 2 Cool 4 Skool, BTS employed an old-school hip-hop sound from the 1980s–90s.[21] The single album's release was followed by several appearances on Korean music shows.[22][23] Despite being unpolished, critics say these early live performances demonstrated BTS' potential.[22] Expanding their endeavors to Japan, \"No More Dream\" was re-recorded in Japanese and released in June 2014.[24]\n",
            "\n",
            "In September 2013, BTS released the second entry in their \"school trilogy\": the extended play O!RUL8,2? This record was released alongside the single \"N.O,\".[25] Despite several performances on Korean music shows, the single quickly fell off the charts.[26] That same month, BTS starred in their own variety show, SBS MTV's Rookie King Channel Bangtan, in which members parodied variety shows such as VJ Special Forces and MasterChef Korea.[27] At the end of the year, BTS was recognized with several New Artist of the Year awards, including at the 2013 Melon Music Awards, 28th Golden Disc Awards, and the 23rd Seoul Music Awards.[28][29][30]\n",
            "\n",
            "2014–2017: Mainstream and international breakthrough\n",
            "\n",
            "Moderate success and first concert tour\n",
            "\n",
            "Exterior of the nightclub Troubadour (photo taken 2006) where BTS held their first concert in the US for free\n",
            "\n",
            "The last entry in their \"school trilogy\", the Skool Luv Affair EP, was released in February 2014.[5] The release topped the Gaon Album Chart,[31] and it also appeared on Billboard's World Albums Chart for the first time, peaking at number three.[5][32] The EP was supported by the singles: \"Boy in Luv\" (Korean: 상남자; RR : Sang-namja) and \"Just One Day\" (Korean: 하루만; RR : Haruman).[33] Following Skool Luv Affair's release, BTS made several appearances on Korean music shows, and they held their first fan meeting in Seoul.[34][35] That July, BTS hosted a free concert in West Hollywood (their first show in the United States),[36] and in August, they appeared at KCON in Los Angeles.[37]\n",
            "\n",
            "In August 2014, BTS also released their first Korean studio album, Dark & Wild, which peaked at number two in South Korea.[38] It was supported by two singles: \"Danger\" and \"War of Hormone\" (Korean: 호르몬 전쟁; RR : Horeumon Jeonjaeng).[39] In terms of style, the album served as an aesthetic extension of the group's \"school trilogy\", while also functioning as a transition to their future releases.[40] Following several appearances on Korean music shows,[41] BTS embarked on their first concert tour, 2014 BTS Live Trilogy Episode II: The Red Bullet, which lasted from October to December.[42] The band released their first Japanese studio album, Wake Up (2014), that December; the release peaked at number three on the Oricon Albums Chart.[43] In support of the album, BTS held their 1st Japan Tour 2015 Wake Up: Open Your Eyes in February 2015.[44] In March, BTS then held their second solo concert in South Korea, BTS Live Trilogy Episode I: BTS Begins, to a crowd of 6,500 fans.[45]\n",
            "\n",
            "Mainstream breakthrough and commercial success\n",
            "\n",
            "Shifting their sound and image from masculine hip hop to more diverse styles,[46] BTS wanted to express the beauty and anxiousness of youth and settled on the title of \"花樣年華\" (Korean: 화양연화; RR : Hwayangyeonhwa), loosely interpreted to define \"youth\" as \"the most beautiful moment in life.\"[47] Their third EP, The Most Beautiful Moment in Life, Part 1, explored the highs and lows of youth as well as its playful and uplifting sides.[46] The album served as an introduction to their youth trilogy, a group of albums dedicated to the struggles of youth.[10] Its lead single \"I Need U\" was BTS' first top five hit in South Korea and garnered the group their first ever music show win on SBS MTV's The Show.[48][49] The album's second single, \"Dope (Korean: 쩔어; RR : Jjeoreo),\" peaked at number three on Billboard's World Digital Songs Chart and became their first music video to receive over 100 million views on YouTube.[50][51] The group began the world tour extension of their Red Bullet Tour in June, titled 2015 Live Trilogy Episode II: The Red Bullet, visiting cities throughout Asia, Oceania, North America, and Latin America.[42] Their fourth Japanese single, \"For You\", was released on June 17 to celebrate the first anniversary of their Japanese debut and topped Oricon's daily chart.[52]\n",
            "\n",
            "In November, BTS commenced their third concert tour, 2015 BTS LIVE \"The Most Beautiful Moment in Life: On Stage\", debuting their new song and the lead single from their fourth EP The Most Beautiful Moment in Life, Part 2, \"Run\", during the Seoul dates.[53] Thematically, the EP focused more on the serious and speculative aspects of youth, touching on the pursuit of success, loneliness, affection for their origins, and the suffering of the younger generation due to unfavorable conditions in current society.[54] The album topped the weekly Gaon Album and Billboard World Albums charts.[55][56] It also marked their first appearance on the Billboard 200 chart.[57]\n",
            "\n",
            "BTS performing at KCON France in Paris on June 2, 2016\n",
            "\n",
            "Their first Korean compilation album and the finale to their \"youth trilogy\", The Most Beautiful Moment in Life: Young Forever, was released in May 2016. It included three new singles: \"Epilogue: Young Forever\", \"Fire\" (Korean: 불타오르네; RR : Bultaoreune), and \"Save Me\".[58] The album topped Gaon Weekly Chart in South Korea for two consecutive weeks and became their second consecutive release to chart on the US Billboard 200, peaking at number 107.[59][60][61] The Most Beautiful Moment in Life: Young Forever later won BTS' first major Korean award for Album of the Year at the 2016 Melon Music Awards.[62] BTS embarked on their Asia tour extension, 2016 BTS LIVE \"The Most Beautiful Moment in Life On Stage: Epilogue\" from May to August.[63] During their tour, BTS held a landmark two-day concert at the Olympic Gymnastics Arena in Seoul in May,[64] and performed as first time headliners at both US KCON shows held that year in Newark and Los Angeles.[65][66]\n",
            "\n",
            "BTS win their first major Korean award for Album of the Year at the 2016 Melon Music Awards on November 19, 2016.\n",
            "\n",
            "In September 2016, BTS released their second Japanese studio album Youth.[67] Wings combined the themes of youth presented in their previous \"youth trilogy\" with temptation and adversity.[68] The lead single \"Blood Sweat & Tears\" achieved a music chart \"all-kill\" in South Korea and became their first number one hit on the weekly Gaon Digital Chart.[69][70] Wings opened at number 26 on the US Billboard 200.[71] It was their first million seller album,[72] moving over 1.5 million copies in South Korea that year and becoming the best-selling album in Gaon Album Chart history.[73]\n",
            "\n",
            "International expansion and collaborations\n",
            "\n",
            "In February 2017, BTS released the repackaged edition of Wings entitled You Never Walk Alone. Pre-orders of the repackaged broke the record for most albums sold in a month.[74][75] The repackage included its lead single \"Spring Day\".[76] Embodying nostalgia and sorrow, it opened a new chapter in BTS' aesthetics and lyricism and attracted many fans.[68] It entered the US Billboard's Bubbling Under Hot 100 singles chart.[77] \"Spring Day\" later won Best Song of the Year at the 2017 Melon Music Awards.[78] In conjunction with the release of You Never Walk Alone, BTS' second world tour, 2017 BTS Live Trilogy Episode III: The Wings Tour, began in February and ran until December. On the tour, BTS began to play progressively larger venues, moving from halls into arenas and domes. Tickets for the North American leg sold out within minutes and two additional shows were added due to high demand, making BTS the first K-pop act to sell out arenas in the US.[79][80] After completing their North American leg, BTS attended the 24th Billboard Music Awards in May and won Top Social Artist, becoming the first Korean group awarded a Billboard Music Award.[81]\n",
            "\n",
            "BTS at their press conference in Seoul, South Korea after winning Top Social Artist at the 24th Billboard Music Awards on May 29, 2017\n",
            "\n",
            "Celebrating Korean music icon Seo Taiji's 25th anniversary as a part of his anniversary project \"Time: Traveler\", BTS released a remake of Seo Taiji's 1995 classic \"Come Back Home\" in July 2017, reworking the sound and lyrics to similar sentiments toward societal change that Seo Taiji originally wrote with BTS now \"maintaining its originally intensely dark feeling\".[82] BTS was later invited by Seo Taiji to perform as backup vocalists and dancers for eight songs in his Seoul Olympic Stadium concert held early September.[83][84] Following the depiction of growth and temptation in Wings (2016) and consolation in You Never Walk Alone (2017), BTS embarked on their \"Love Yourself\" series which sought the enlightenment of self-love through the \"起承轉結\" (Korean: 기승전결; RR : Giseungjeongyeol) narrative sequence of \"beginning, development, turn, and conclusion.\"[85] In September 2017, BTS released the first part of the series, their fifth EP, Love Yourself: Her.[86][87] The EP was supported by two singles: the lead single \"DNA\" and a Steve Aoki remix of their song \"Mic Drop\" featuring American rapper Desiigner. The EP represented the \"承,\" or \"development\" of the series and is considered by RM to be one of the major turning points in BTS' career.[88] Sonically, the EP served as \"a dual exploration of the group's electro-pop and hip-hop leanings\".[89]\n",
            "\n",
            "BTS at the 45th American Music Awards shortly before making their debut performance on US television on November 19, 2017\n",
            "\n",
            "Commercially, BTS continued to hit new career heights with the Love Yourself: Her EP, debuting at number seven on the Billboard 200.[90] In South Korea, the EP sold over 1.2 million copies on the Gaon Album Chart in its first month, achieving the highest monthly album sales in the chart's history and the highest on any Korean chart in 16 years, second to g.o.d's Chapter 4 album in 2001.[91] The single \"DNA\" was released simultaneously with the EP and debuted at number two in South Korea.[92] \"DNA\" also became the group's first entry on the Billboard Hot 100, making BTS the first K-pop boy band to do so and the second Korean act with a Korean-language song following Psy's \"Gangnam Style\".[93] The following week, \"DNA\" rose to number 67 and became the highest-charting song on the Billboard Hot 100 for a K-pop group, beating Wonder Girls' previous record at number 76.[94] The following single \"Mic Drop (Remix)\" peaked at number 28 on the Billboard Hot 100, becoming the first top 40 entry for a K-pop group on the chart.[95][96] Both \"Mic Drop Remix\" and \"DNA\" were later certified Gold by the Recording Industry Association of America (RIAA)[97] making BTS the first and only South Korean artist to receive two certifications.[98] \"Mic Drop\" went on to receive Platinum certification in November 2018, making BTS the first Korean group with a Platinum-certified single in the US.[99] In December 2017, \"DNA\" and \"Mic Drop\" were released as a triple-A side single in Japan with the new song \"Crystal Snow\",[100] which topped the Oricon Chart.[101] BTS became the only foreign artist to have a single certified double platinum by the RIAJ that year.[102]\n",
            "\n",
            "In November 2017, BTS became the first K-pop group to perform at the American Music Awards.[103][104][105] In December, they also became the first K-pop group to perform on Dick Clark's New Year's Rockin' Eve[106] and made their Japanese TV music show debut on TV Asahi's Japan Music Station Super Live.[107] At the end of the year, BTS won their second Artist of the Year at the 19th Mnet Asian Music Awards,[108] becoming the first act to win the award two years in a row.[109] They also became the first artist outside of the top three Korean pop music agencies (SM, YG and JYP) to win major awards at the Golden Disc Awards[110] and the Seoul Music Awards, respectively.[111]\n",
            "\n",
            "2018–2020: Continued worldwide success\n",
            "\n",
            "Worldwide recognition and Love Yourself album series\n",
            "\n",
            "In the lead up to their next album, BTS released an original eight-episode documentary series exclusively on YouTube Premium entitled Burn the Stage that ran from March until May 2018, offering a behind-the-scenes look at the group's 2017 Wings Tour.[112][113] In April, the group also released their third Japanese studio album, Face Yourself,[114] which debuted at number 43 on the Billboard 200 as the third-highest-charting Japanese album in the history of the chart.[115] In conjunction with the release of Face Yourself, the group released a nine-minute short film titled \"Euphoria: Theme of Love Yourself: Wonder\" featuring the song \"Euphoria\".[116] In May 2018, BTS released their third Korean-language studio album, Love Yourself: Tear in conjunction with an appearance at the 25th Billboard Music Awards.[117] At the show, BTS had their first performance with the premiere of their lead single, \"Fake Love\"[118][119] and won Top Social Artist, making them the only Korean artist to win the award two years in a row.[120][121] In the narrative sequence, the album coincided with the \"轉\" or \"turn\" of the series, touching on the tortuous enlightenment of loving without being loved and encouragement to those without dreams.[122]\n",
            "\n",
            "Love Yourself: Tear on May 24, 2018 BTS at their press conference foron May 24, 2018\n",
            "\n",
            "Commercially, Love Yourself: Tear became one of BTS' best selling albums. The album debuted at number one on the US Billboard 200, becoming BTS' first number one album in the US, the first K-pop album to top the US albums chart, and the highest-charting album by an Asian act.[123] Love Yourself: Tear also became BTS' first top ten hit in the UK, reaching number eight on the UK Albums Chart.[124] Their single \"Fake Love\" became their first top ten hit on the Billboard Hot 100, becoming the seventeenth non-English song to reach the top ten and the first by a South Korean group.[125] At the conclusion of the Love Yourself series, BTS released their second Korean compilation album Love Yourself: Answer in August 2018,[126] which contained songs from the previous Love Yourself releases along with seven additional new tracks.[127] The album was supported by the lead single \"Idol\" and the alternative digital release featuring Nicki Minaj.[128][129]\n",
            "\n",
            "Commercially, Love Yourself: Answer sold over 1.9 million copies on the Gaon Album Chart in August 2018, breaking the chart's all-time monthly record once again.[130] The album became BTS' second number-one album on the US Billboard 200 and their highest sales week in the country at that time,[131] making BTS the only K-pop act with two Billboard 200 toppers and the first pop act with two number one albums in less than a year since One Direction topped the chart with Midnight Memories in 2013 and Four in 2014.[131] Love Yourself: Answer later became the first Korean language album to be certified Gold by the RIAA in November.[99] In Canada, Love Yourself: Answer became the group's first number-one album on the Canadian Albums Chart and the single \"Idol\" also reached number five on the Canadian Singles Chart, marking BTS' first top-ten hit in Canada.[132] In the US, \"Idol\" peaked at number 11 on the Billboard Hot 100.[133] Later, \"Idol\" and Love Yourself: Answer received platinum certifications, both selling more than 1 million certified units in the US. \"Idol\" became the group's third Platinum single while Answer became the group's first Platinum album, making BTS the first Korean artist to attain this certification in the US.[134]\n",
            "\n",
            "[135] New York City's Citi Field , the venue for BTS' first stadium concert in the US, sold out in 20 minutes.\n",
            "\n",
            "In conjunction with Love Yourself: Answer's release in August 2018, BTS commenced their third world tour, BTS World Tour: Love Yourself, with a landmark concert in the Seoul Olympic Stadium, the largest stadium in South Korea.[136] During their tour, BTS also featured on Steve Aoki's single \"Waste It on Me\" released that October, which was their first all-English language feature.[137][138] For the final stop of the North American leg, the group performed at Citi Field in Queens, marking the first time a Korean act performed at a US stadium.[139] According to StubHub, BTS was the second best-selling concert act outside the US, behind Ed Sheeran.[140] That October, with more than a year remaining in their contract, BTS renewed their contract with Big Hit Entertainment through 2026.[141]\n",
            "\n",
            "In early November 2018, a popular Japanese music show cancelled BTS' performance, citing a T-shirt a member wore the year before.[142] In the same month, the Jewish human rights organization Simon Wiesenthal Center (SWC) stated that BTS owed an apology for the shirt in 2017, clothing with Nazi symbolism, and a flag.[143] Big Hit Entertainment issued an apology, explaining that the images on the clothing were not intended to be hurtful to the victims of Nazism or atomic bombings and that the group and management would take steps to prevent future mistakes. They also stated the flags were meant to be a commentary on the Korean school system.[144] The apology was accepted by SWC and the Korean Atomic Bomb Victim Association.[145][146] At the 20th Mnet Asian Music Awards, BTS won their third consecutive Artist of the Year and ranked number eight on Billboard's year-end Top Artist Chart and were also the number two act of the year in the Duo/Group ranking, only behind Imagine Dragons.[147][148] They also made the Bloomberg 50 due to their \"willingness to address social issues, mental health, and politics, despite being in a genre often painted as bubble gum pop\".[149]\n",
            "\n",
            "Map of the Soul: Persona, stadium world tour and BTS World\n",
            "\n",
            "In February 2019, BTS attended the 61st Grammy Awards for the first time as award presenters following their appearance at the LA Grammy Museum in 2019.[150][151] In April, Time named them as one of Time 100's most influential people of 2019.[152] Their sixth EP, Map of the Soul: Persona, was released on April 12 with the lead single \"Boy with Luv\" (Korean: 작은 것들을 위한 시; RR : Jageun geotdeureul wihan si), featuring American singer Halsey.[153] The EP's release was followed by a performance on Saturday Night Live, as the first Korean act to do so.[154] Map of the Soul: Persona became the first Korean-language album to reach the number one position in both the UK and Australia[155][156] and the group's third consecutive album to top the Billboard 200 and the third within eleven months, joining the likes of the Beatles, who achieved the same feat in 1995–96. BTS are also the fastest group to get three number one albums since the Monkees in 1967.[157] Map of the Soul: Persona later became the best-selling album ever in South Korea, with more than 3.2 million sales in less than a month. Prior to BTS, the best-selling lists were dominated by late 1990s albums, making BTS the only act formed after 2000 to be featured in the top 10 best-selling list.[158] \"Boy with Luv\" debuted at number 8 on the Billboard Hot 100, the highest in history for a Korean group in April 2019.[159] \"Boy with Luv\" was certified Silver in the UK by the BPI for selling over 200,000 units.[160]\n",
            "\n",
            "Following their two wins at the 26th Billboard Music Awards in May, including for Top Duo/Group, BTS embarked on their world tour stadium extension, Love Yourself: Speak Yourself.[161] With this, they became the first Asian and first non-English speaking artists ever to headline and sell out Wembley Stadium.[162][163] Due to the high demand, BTS added more shows after tickets for the first dates sold out within two hours.[164] In the lead up to the release of their mobile game BTS World in June 2019, BTS released three collaboration singles, \"Dream Glow\" featuring Charli XCX,[165] \"A Brand New Day\" with Zara Larsson,[166] and \"All Night\" with Juice Wrld.[167] The group also released the song \"Heartbeat\" with a music video from the game's official soundtrack, titled BTS World: Original Soundtrack.[168] The soundtrack was later certified Double Platinum by Gaon, the first soundtrack album to receive the certification since Gaon implemented it in 2018.[169] BTS released their tenth Japanese single \"Lights\" on July 3.[170] Pre-orders for the double A-side single surpassed 1 million copies, breaking a 24-year-old record for foreign artists previously held only by Celine Dion with her 1995 single \"To Love You More\", and marked the first time a Korean artist achieved a million shipment for a single in Japan.[171][172] \"Lights\" went on to sell over 1 million copies and received Million certification by the RIAJ on August 8, the first time a male act achieved this since Masafumi Akikawa's August 2007 single, \"A Thousand Winds\". It is BTS' first million certification in Japan.[173]\n",
            "\n",
            "Love Yourself: Her and Love Yourself: Tear both crossed 2 million copies in August,[174] All three albums of the Love Yourself series have sold more than 2 million copies each in South Korea. Love Yourself: Tear later attained Silver in the UK, becoming their third album to be attain this certification following Love Yourself: Answer and Map of the Soul: Persona.[175] For the final stop of their record-breaking Love Yourself: Speak Yourself World Tour, the group held a run of three sold-out nights at Seoul's Olympic Stadium.[176] BTS was the top-grossing touring group of 2019.[177] That same month, the group released a remix version of the song \"Make It Right\" featuring Lauv as the second single from their album Map of the Soul: Persona.[178] In November, BTS became the first K-pop group to win Favorite Duo or Group – Pop/Rock at the 2019 American Music Awards and Favorite Social Artist consecutively (2018 and 2019).[179]\n",
            "\n",
            "In December, they attended both the 2019 Melon Music Awards and 2019 Mnet Asian Music Awards. The group became the first artists in the history of K-pop to receive all grand prizes from both ceremonies; getting four from each awards show.[180][181][182] At the 34th Golden Disc Awards, BTS became the first artists in history to win grand prizes in both the physical and digital categories in a single year.[183] Map of the Soul: Persona was named the second best-selling physical album of 2019 in the US by Nielsen Music only behind Taylor Swift's Lover and was ranked sixth overall on the chart of Top 10 Albums (Total Sales) in the US[184] BTS wrapped 2019 as the fourth highest ranked group on Billboard's Top Billboard 200 Artists–Duo/Group ranking, only behind Queen, Imagine Dragons and the Beatles.[185] Map of the Soul: Persona was named as the third best-selling album of 2019 by the International Federation of the Phonographic Industry, making BTS the first Korean artist to be listed on the Global Top 10 Album Chart for two consecutive years.[186][187][188] Map of the Soul: Persona was also the second best-selling global album by a band only behind Arashi's 5x20 All the Best!! 1999–2019.[189] Attributing to the album's critical and commercial success worldwide, the IFPI named BTS as one of the best-selling artists of 2019 for a second consecutive year, making them the first non-English speaking act to achieve this.[190][191]\n",
            "\n",
            "Map of the Soul: 7, \"Dynamite\" and Be\n",
            "\n",
            "In January 2020, BTS released \"Black Swan\" along with a choreography art film performed by MN Dance Company as the first single from their fourth Korean-language studio album, Map of the Soul: 7.[192][193] Album distributor Dreamus reported that stock pre-orders of the album reached a record-breaking 4.02 million, breaking the previous record of 2.68 million held by Map of the Soul: Persona.[194] Later that month, BTS performed alongside Lil Nas X, Billy Ray Cyrus, Diplo and Nas at the 62nd Annual Grammy Awards, making BTS the first Korean act to perform at the Grammys.[195][196] Map of the Soul: 7 was released on February 21 to universal acclaim.[197][198] The album was supported by the lead single \"On\" and an alternative digital release featuring Australian singer Sia.[199] According to Gaon Chart, Map of the Soul: 7 sold over 4.1 million copies in just nine days after its release, surpassing the record held by their previous album Map of the Soul: Persona to become the best-selling album in South Korean history and the first album to be certified Quadruple Million.[200] The album debuted atop the US Billboard 200 making BTS the fastest group to earn four number one albums since the Beatles in 1968.[201] The lead single \"On\" debuted at number four on the Billboard Hot 100 becoming BTS' first top five and their biggest sales week for a song.[202] It was the group's third top-ten single, giving them more top-ten entries of any Korean act on the Hot 100 chart.[203] In support of the Map of the Soul album series, BTS were set to embark on their fourth worldwide concert tour and second stadium tour, Map of the Soul Tour, beginning in April.[204] However, the initial Seoul dates were cancelled due to the COVID-19 pandemic,[205] and the rest of the world tour was eventually cancelled.[206]\n",
            "\n",
            "In April, BTS became the first South Korean artist to sell more than 20 million albums cumulatively—previously Shin Seung-hun held the record with 17 million albums sold[207]—making them the best-selling artist in South Korean history.[208][209] That month, BTS held a two-day online streaming concert event titled Bang Bang Con, where the group shared footage of past concerts on their YouTube channel.[210] The virtual concert series was hosted in response to Map of the Soul Tour that had been postponed earlier in the year.[211][212] On June 7, BTS headlined YouTube's Dear Class of 2020 online graduation event, performing \"Boy with Luv\", \"Spring Day\", and \"Mikrokosmos\". Their commencement speeches highlighted their own graduations and offered \"messages of hope and inspiration for the class of 2020 in both Korean and English\".[213] On June 14, BTS held a 100-minute long online live concert, Bang Bang Con: The Live, as a part of their seventh debut anniversary. The concert was the first collaborative effort between Big Hit and Kiswe, a live streaming solution company in the US. It garnered 756,000 concurrent viewers in 107 countries and territories, setting the record for the largest audience for a paid virtual concert.[214] On June 19, BTS released the Japanese single, \"Stay Gold\", from their fourth Japanese studio album, Map of the Soul: 7 – The Journey, which was released in Japan and digitally worldwide on July 14.[215][216] It surpassed 564,000 copies in its first week, breaking the 10-year record previously held by TVXQ's Best Selection 2010 for highest first week album sales by a male foreign artist in Japan.[217]\n",
            "\n",
            "BTS released their first English-language single, \"Dynamite\", on August 21.[218] \"Dynamite\" debuted at number one on the US Billboard Hot 100 chart becoming the fastest-selling single since Taylor Swift's \"Look What You Made Me Do\" (2017)—earning BTS their first chart topper and making them the first all-South Korean act (second Asian act overall) to earn a number one single in the US.[219] In its fifth tracking week, the single also reached number one on Billboard's new Global 200 and Global Excluding US charts, becoming the first single to top both simultaneously.[220] In its sixth tracking week, \"Dynamite\" spent its sixth consecutive week at number one on the Digital Song Sales chart and rose to the 39th spot on the Radio Songs chart, becoming their first Top 40 entry on US's overall radio chart.[221] It continued rising and peaked at number 20, becoming their first Top 20 entry on the Radio Songs chart.[222] It peaked at number nine on the US Mainstream Top 40, also known as the Pop Songs chart, becoming their first Top 10 entry and the highest-charting entry by a Korean act.[223][224] The single debuted at number three on the UK Singles Chart[225] and number two on the Australian singles chart,[226] becoming their highest-charting single in both countries. On August 31, BTS made their MTV Video Music Awards (VMAs) debut with the first live performance of \"Dynamite\"[227] and won four awards: Best Group, Best Choreography, Best Pop Video, and Best K-pop (the last three for their music video for \"On\").[228] On October 14, they performed the single at the 2020 Billboard Music Awards and won the Top Social Artist award, becoming their fourth consecutive year of winning the award.[229]\n",
            "\n",
            "On October 2, BTS released a remix of Jawsh 685 and Jason Derulo's single \"Savage Love (Laxed – Siren Beat)\".[230] It topped the Billboard Hot 100 chart, marking the group's second number one entry in the US. \"Dynamite\" remained at number two, making BTS the fourth group (after the Beatles, Bee Gees, and OutKast) to simultaneously occupy the top two spots on the Hot 100.[231] The single also topped the Billboard Global 200, becoming their second number one entry and making BTS the first artist to have multiple songs top Billboard's recently created global singles chart.[232] On October 10 and 11, BTS hosted a two-day virtual pay-per-view concert, at KSPO Dome in Seoul, called Map of the Soul ON:E, which broke their own world record for Most viewers for a paid virtual concert live stream.[233][234] They re-released their 2014 album Skool Luv Affair in October, debuting in the Top 10 of Billboard's Rap Albums chart and becoming their first entry on the genre-specific chart.[235] On November 20, BTS' fifth Korean studio album Be was released, with \"Life Goes On\" as its lead single.[236] On November 24, BTS became the first Korean pop artists to be recognized by the Recording Academy when \"Dynamite\" received a nomination for Best Pop Duo/Group Performance at the 63rd Annual Grammy Awards.[237] On November 30, 2020, \"Life Goes On\" debuted at number one on the Billboard Hot 100 chart.[238] With this, BTS achieved their third consecutive number one on the Hot 100 in just three months—the fastest of any band since the Beatles in 1964 to do so—and became the first group in the chart's history to have two number one debuts, as well as seven songs appearing simultaneously on the chart. \"Life Goes On\" became the first song performed primarily in Korean to debut in the top spot.[239][240] The group won the Special International Music Award at the 62nd Japan Record Awards.[241]\n",
            "\n",
            "2021–present: BTS, the Best, \"Butter\", \"Permission to Dance\" and Proof\n",
            "\n",
            "On March 4, 2021, the IFPI named BTS its Global Recording Artist of the Year for 2020—they are the first Asian and first non-English speaking act to top the ranking.[242] BTS occupied three spots in the Global Album Sales Chart of 2020 with Map of the Soul: 7 coming at number one, Be (Deluxe Edition) at number two and Map of the Soul: 7–The Journey at number eight.[243] In the newly launched Global Album All Format Chart, Map of the Soul: 7 claimed the first position while Be (Deluxe Edition) claimed the fourth position.[244] BTS also received their first entry on the Global Digital Single Chart of 2020, with \"Dynamite\" placing tenth.[245] On March 14, BTS performed \"Dynamite\" at the 63rd Annual Grammy Awards, becoming the first Korean nominee to perform their own song on the show.[246] On April 1, BTS released \"Film Out\", the lead single for their upcoming Japanese compilation album.[247] BTS held another free online streaming event on their YouTube channel on April 17, this time titled Bang Bang Con 21, and aired three of their previous in-person concerts.[248]\n",
            "\n",
            "BTS released their second English-language single, \"Butter\", on May 21.[249] The song debuted at number one on the Billboard Hot 100 chart—their fourth number one within the last nine months—making them the quickest act to achieve four number ones since Justin Timberlake in 2006 and the fastest group since the Jackson 5 in 1970.[250] Their third English-language single, \"Permission to Dance\", was released on July 9.[251] It became BTS' eighth number-one on the Digital Songs chart, extending their record as the group with the most number one hits on the ranking.[252] The band released the collaboration single \"My Universe\" with Coldplay on September 24.[253] The single debuted at number one on the Billboard Hot 100, making it the first collaborative track in history to debut at number one with two lead groups.[254] In late-October, as part of an ongoing series of partnerships between Big Hit and Universal Music Group, BTS moved its distribution and marketing in the United States and several other countries from Columbia Records to Universal.[255] The band held an online concert, titled Permission to Dance on Stage, on October 24 in Seoul.[256] On November 23, \"Butter\" earned a Grammy nomination for Best Pop Duo/Group Performance at the 64th Annual Grammy Awards.[257] At the end of that month, BTS held their first live performances before an in-person audience since the pandemic began. The band played four sold-out shows at SoFi Stadium in Los Angeles as a continuation of their Permission to Dance on Stage concert series.[258]\n",
            "\n",
            "On January 15, 2022, a fictional webtoon based on BTS, titled 7Fates: Chako, was released. The comic surpassed 15 million views globally in its first two days of availability and became the highest-viewed title ever launched by Webtoon.[259][260] The band held three limited-capacity concerts at Seoul Olympic Stadium on March 10th, 12th, and 13th. The concerts were the largest-approved music gatherings[a] by the South Korean government since pandemic restrictions were put in place, with a total attendance of 45,000.[261][262] On April 3, BTS performed \"Butter\" at the 64th Grammys.[263] On April 8, the band received seven nominations at the upcoming 2022 Billboard Music Awards, making them the most-nominated duo/group in BBMA history.[264] The band's upcoming anthology album, Proof, is slated for release on June 10,[265][266] serving \"Yet to Come (The Most Beautiful Moment)\" as its lead single.[267] The band continued its winning streak at the annual 2022 Billboard Music Awards, winning 3 additional awards, bringing their total Billboard Music Awards to 12 wins, making them the most-awarded group in the show's history, following their first win in 2017.[268][269]\n",
            "\n",
            "Artistry\n",
            "\n",
            "Influences\n",
            "\n",
            "center) performing BTS member Jin () performing Freddie Mercury 's \"ay-oh\" chant during their first concert at Wembley Stadium on June 1, 2019\n",
            "\n",
            "BTS have cited Seo Taiji and Boys,[270] Nas, Eminem, Kanye West, Drake, Post Malone, Charlie Puth, and Danger as musical inspirations.[271] They have also cited Queen as an influence, saying they \"grew up watching videos of Live Aid\". During their concert at Wembley Stadium in London, Jin paid tribute to Queen by leading the crowd in a version of Freddie Mercury's \"ay-oh\" chant from the band's Live Aid concert.[272]\n",
            "\n",
            "BTS has also been influenced by many literary, psychological, artistic, and philosophical mediums. Their album Wings (2016) was inspired by Hermann Hesse's coming of age novel, Demian.[273] Their song \"Blood Sweat and Tears\" (2016) quotes Friedrich Nietzsche's Thus Spoke Zarathustra, and its music video features visual references to Herbert James Draper's The Lament for Icarus, Pieter Bruegel's Landscape with the Fall of Icarus, and Pieter Bruegel's The Fall of the Rebel Angels.[274] Their \"Spring Day\" (2017) music video contains lyrical and visual references to Ursula Le Guin's short story The Ones Who Walk Away from Omelas.[275] The Love Yourself series was primarily influenced by Erich Fromm's The Art of Loving,[276] while their song \"Magic Shop\" from Love Yourself: Tear (2018) was inspired by James R. Doty's memoir Into the Magic Shop.[277] Their 2019 album, Map of the Soul: Persona gained its name from Murray Stein's Jung's Map of the Soul: An Introduction.[278]\n",
            "\n",
            "Musical style\n",
            "\n",
            "BTS co-write and produce much of their own output.[279][280] Since their inception, BTS have had an emphasis on hip hop as their musical base largely due to the influence of RM and Suga's background as underground rappers[12] and their main producer Pdogg.[281] Rather than adhering to a specific genre, BTS have introduced new elements into their sound and musical repertoire with each successive release.[282][283][284] Beginning with old-school hip hop on 2 Cool 4 Skool and O!RUL8,2? in 2013,[21] BTS first experimented with R&B and rock on Skool Luv Affair and Dark & Wild in 2014;[285][40] orchestral strings and EDM in their The Most Beautiful Moment in Life album series (2015–16);[54] moombahton, neo soul, and gospel on Wings (2016) and You Never Walk Alone (2017);[286][68] future bass, Latin pop, and jazz hip hop in their Love Yourself album series (2017–18);[85] emo rap, rap rock, Afro pop, nu-disco, funk, trap, pop rock and pop rap in their Map of the Soul album series (2019–20);[287][288][289][290][291] and dance-pop and disco in their singles \"Dynamite\", \"Butter\", and \"Permission to Dance\" (2020–21).[292][293]\n",
            "\n",
            "Lyrical themes\n",
            "\n",
            "Since their inception, BTS have believed that telling their story is the best way for the younger generation to relate to their music.[294] Writing the majority of their own lyrics,[279][280] the group incorporates universal life experiences, such as sadness and loneliness, in their work and turn them into something more light and manageable. RM has stated that BTS tries to not sound as if they are preaching or reprimanding people in their songs, \"...because that's not the way that we want to spread our message. [...] We're born with different lives, but you cannot choose some things. So we thought that love, the real meaning of it, starts with loving ourselves and accepting some ironies and some destinies that we have from the very start\".[295] When asked if it is difficult to write about things like mental health, Suga responded,\n",
            "\n",
            "We feel that people who have the platform to talk about those things really should talk more, because they say depression is something where you go to the hospital and you're diagnosed, but you can't really know until the doctor talks to you. [...] More and more, I think artists or celebrities who have a voice should talk about these problems and bring it up to the surface.[296]\n",
            "\n",
            "The lyrical themes explored in the songs and albums of BTS have included diverse themes such as the issues of social identity in youth, anxieties of school-age youth, and mental health in youth culture.[10] According to a 2017 analysis by Billboard magazine, BTS' albums contain recurring youth-related themes.[10] Their \"school trilogy\" from 2013 to 2014 explored \"the troubles and anxieties of school-age youth.\"[297] In 2016, their approach to discussing youth culture issues in South Korea \"tackled a subject that the vast majority of youth experience, but few pop musicians articulate well: mental health and the desire to belong in society.\"[297] Wings (2016) focused on temptation and sin.[298] The \"Love Yourself\" series introduced various themes dealing with youth culture in South Korea including the excitement of love, the pains of farewell, and the enlightenment of self-love.[299] Their lyrics, which often include social commentary and criticisms of the interaction of South Korean youth culture with South Korean society, clearly reflect these.\"[297]\n",
            "\n",
            "In 2018, songs such as \"No More Dream\" and \"N.O\" from their school trilogy were described by Tamar Herman as being motivated by their experiences with South Korea's emphasis on education and called for change to the education system and societal expectations.[300] Their experiences with youth culture in South Korea inspired the songs \"Dope\" and \"Silver Spoon\" (Korean: 뱁새; RR : Baepsae) from their youth trilogy, referencing generational disparity and millennials giving up of romantic relationships, marriage, children, proper employment, homes, and social life in the face of economic difficulties and societal ills while facing condemnation from the media and older generations.[300]\n",
            "\n",
            "\"Am I Wrong\" from Wings (2016) questioned societal apathy towards the state of current events—the lyric \"We're all dogs and pigs / we become dogs because we're angry\" referenced the South Korean Ministry of Education official Na Hyang-wook, who was a proponent of the caste system and described the average person as \"dogs and pigs\", and BTS performed the song on television during the 2016 South Korean political scandal that led to the impeachment of ex-President Park Geun-hye.[300] RM and Suga's personal struggles with mental health inspired songs like \"Tomorrow\", \"Intro: The Most Beautiful Moment in Life\", \"So Far Away\", \"The Last\", and \"Forever Rain.\"[301][302] \"Not Today\" from You Never Walk Alone (2017) is an anti-establishment anthem, with messages advocating for minority groups,[303] while \"Spring Day\" honored the victims of the Sewol Ferry tragedy.[304] BTS have been praised for \"speak[ing] honestly about topics they deem important, even in a conservative society\" by Jeff Benjamin in Fuse magazine.[305] South Korean president Moon Jae-in recognized their sincerity and inclusion of diversity as key to their success, writing, \"Each of the seven members sings in a way that is true to himself and the life he wants to live. Their melody and lyrics transcend regional borders, language, culture, and institutions.\"[306]\n",
            "\n",
            "BTS performing at the Korea-France Friendship Concert in Paris on October 14, 2018\n",
            "\n",
            "Impact\n",
            "\n",
            "On April 29, 2019 Time magazine named BTS on their \"The 100 Most Influential People\" of the year list, giving them the nickname \"Princes of Pop\".[307] Billboard executive Silvio Pietroluongo compared BTS' commercial success and influence to that of the Beatles and the Monkees.[308] MRC Data executive Helena Kosinski noted that \"although BTS weren't the first to open the doors to K-Pop worldwide, they were the first to become mainstream. They don't just appeal to young people but also to the 50s and 60s age demographic\".[309] As the first non-English speaking artist to make the Global Artist Chart in 2018, BTS had the second and third best-selling albums worldwide and were the second best-selling artists worldwide across multiple media platforms, second only to Drake.[310][311][312] In 2020, BTS became the first non-western and non-English speaking artist to be named IFPI's Global Recording Artist of the Year.[242] In South Korea, BTS accounted for 41.9 percent of album sales in the first half of 2019, up from their market share of 25.3 percent the previous year.[313]\n",
            "\n",
            "In March 2020, a video series, \"Learn Korean with BTS,\" was launched on the web platform app Weverse,[314] intended to \"make it easy and fun for global fans who have difficulty enjoying BTS' music and contents due to the language barrier.\"[314] The idea for the project emerged in reaction to fans asking for English subtitles for BTS' videos.[315] The series consists of thirty three-minute lessons on Korean expressions and grammar using footage from existing BTS content on YouTube and VLive, such as \"Run BTS!\" and \"Bangtan Bomb.\"[314] The videos were developed in collaboration with experts at the Korean Language Content Institute and Hankuk University of Foreign Studies.[314] BTS' work has influenced numerous artists, including (G)I-dle,[316] D-Crunch's Hyunho,[317] The Boyz' Younghoon and Hwall,[318] SF9's Zuho,[319] Euna Kim,[320] Golden Child's Jaehyun,[321] Wanna One,[322] IN2IT,[323] Park Ji-hoon,[324] Kim Dong-han,[325][326] Seven O'Clock,[327] Hyeongseop X Euiwoong,[328] Noir,[329] Victon's Sejun and Byungchan,[330] Loona,[331] Newkidd,[332] and Enhypen.[333]\n",
            "\n",
            "The group's influence has led them to address the 73rd United Nations General Assembly[334][335] and perform before 400 officials, including South Korean president Moon Jae-in, at the 2018 Korea-France Friendship Concert in Paris, a summit celebrating the friendly relations between France and South Korea.[336] That year, BTS also became the youngest ever recipients of the Order of Cultural Merit. Despite cultural medals traditionally being given to recipients with over 15 years of notable achievements, President Moon recognized the group, five years into their career, for their contributions in spreading Korean culture and language worldwide.[337][338] In September 2019, BTS were mentioned by President Moon in his announcement for his \"3 major innovation strategies for the contents industry\" for having pioneered innovative business models that communicate directly with fans.[339] In 2020, BTS were bestowed the James A. Van Fleet Award in recognition of their outstanding contributions to the promotion of US-Korea relations; to date, they are the youngest honorees and only musicians to receive the award in its history.[340] In July 2021, they were appointed Special Presidential Envoy for Future Generations and Culture by President Moon. In their role as envoys, they help to \"raise awareness on global agendas, such as sustainable development, to our future generations and to strengthen the nation's diplomatic power across the world\"[341] and represent South Korea at various international events, such as the 76th United Nations General Assembly.[342]\n",
            "\n",
            "Endorsements\n",
            "\n",
            "BTS have maintained numerous global endorsement deals in various industries throughout their career. Partnered with Puma since 2015, BTS initially promoted its sportswear as Puma Korea's brand ambassadors before expanding to become global ambassadors in 2018[343][344] and promoting the remix of Puma's \"Turin\" and \"Sportstyle\" line worldwide.[345][346] In 2019, BTS signed with Fila to endorse its sportswear.[347] BTS has also served as global brand ambassadors for LG Electronics' 2018 LG G7 ThinQ telephone,[348] and Hyundai Motors' 2019 flagship SUV the \"Palisade\"[349] and hydrogen fuel cell electric SUV, the \"Nexo\".[350] Due to BTS' endorsement, Hyundai received almost double the anticipated domestic order volume for the Palisade.[351] BTS became global ambassadors of the electric street racing series Formula E to promote how electric vehicles can help combat climate change.[352] In 2020, BTS partnered with Samsung Electronics,[353] releasing a limited BTS-themed version of the Galaxy S20+ and Galaxy Buds+.[354] As the first male pop group ever to collaborate with Dior, BTS sported ensembles from Kim Jones' Pre-Fall 2019 collection at their concert at Stade de France.[355] The band became global brand ambassadors for Louis Vuitton in April 2021.[356]\n",
            "\n",
            "Awards\n",
            "\n",
            "BTS has been the recipient of many awards and honors, including 43 Mnet Asian Music Awards, 34 Melon Music Awards, 28 Golden Disc Awards, 23 Seoul Music Awards, seven Korean Music Awards, 27 Gaon Chart Music Awards, nine Billboard Music Awards, nine American Music Awards, and nine MTV Video Music Awards. BTS is also the first group in history to win Top Song Sales Artist at the Billboard Music Awards and earn five consecutive wins for Top Social Artist.[357]\n",
            "\n",
            "Having sold over 32.7 million albums on the Gaon Music Chart,[358] BTS is the best-selling musical artist in South Korean history,[359][360] and hold six multi-Million albums and five Platinum streaming singles.[361][362] In the United States, BTS is the first Korean group to receive RIAA certification, and currently holds one Triple Platinum single, one Double Platinum single, three Platinum albums, three Platinum singles, four Gold singles, and one Gold album.[363] In Japan, BTS is the first male foreign artist to receive a Million certification for a single,[364] and the only foreign artist to receive Diamond certification[b] for a single;[365] the group additionally has three multi-Platinum singles, two multi-Platinum albums, four Platinum albums, and five Gold albums in the country.[366] In the United Kingdom, BTS is the first Korean group to receive BPI certification, and currently holds seven Silver singles,[367] one Gold single,[368] one Platinum single,[369] five Silver album certifications,[370] and three Gold album certifications.[371]\n",
            "\n",
            "Members\n",
            "\n",
            "Jin (진) – vocalist [372]\n",
            "\n",
            "Suga (슈가) – rapper [373]\n",
            "\n",
            "J-Hope (제이홉) – rapper [374]\n",
            "\n",
            "RM – leader, rapper [375]\n",
            "\n",
            "Jimin (지민) – vocalist [376]\n",
            "\n",
            "V (뷔) – vocalist [377]\n",
            "\n",
            "Jungkook (정국) – vocalist[378]\n",
            "\n",
            "Discography\n",
            "\n",
            "Filmography\n",
            "\n",
            "BTS' filmography and videography comprises multiple forms of media including exhibitions, films, television work, and online shows.\n",
            "\n",
            "Concert tours\n",
            "\n",
            "See also\n",
            "\n",
            "Notes\n",
            "\n",
            "^ 15,000 attendees per day ^ for streaming\n"
          ]
        }
      ]
    },
    {
      "cell_type": "code",
      "source": [
        "text=corpus"
      ],
      "metadata": {
        "id": "Fq-8uxR5uFLK"
      },
      "execution_count": null,
      "outputs": []
    },
    {
      "cell_type": "code",
      "source": [
        "sentence=nltk.sent_tokenize(text)"
      ],
      "metadata": {
        "id": "z2wjPUMJuScc"
      },
      "execution_count": null,
      "outputs": []
    },
    {
      "cell_type": "code",
      "source": [
        "print(sentence)"
      ],
      "metadata": {
        "colab": {
          "base_uri": "https://localhost:8080/"
        },
        "id": "1mrjwCd7uYpl",
        "outputId": "0db4acaf-06c8-4faa-8c6a-9b8354dcedd4"
      },
      "execution_count": null,
      "outputs": [
        {
          "output_type": "stream",
          "name": "stdout",
          "text": [
            "['South Korean boy band\\n\\nThis article is about the musical group.', 'For other uses, see BTS (disambiguation)\\n\\nBTS (Korean: 방탄소년단; RR: Bangtan Sonyeondan), also known as the Bangtan Boys, is a South Korean boy band that was formed in 2010 and debuted in 2013 under Big Hit Entertainment.', '[5] The septet—consisting of members Jin, Suga, J-Hope, RM, Jimin, V, and Jungkook—co-writes and co-produces much of their own output.', 'Originally a hip hop group, their musical style has evolved to include a wide range of genres.', 'Their lyrics, often focused on personal and social commentary, touch on the themes of mental health, troubles of school-age youth and coming of age, loss, the journey towards loving oneself, and individualism.', 'Their work also often references literature and psychological concepts and includes an alternative universe storyline.', 'After debuting in 2013 with their single album 2 Cool 4 Skool, BTS released their first Korean-language studio album, Dark & Wild, and Japanese-language studio album, Wake Up, in 2014.', \"The group's second Korean studio album, Wings (2016), was their first to sell one million copies in South Korea.\", 'By 2017, BTS crossed into the global music market, leading the Korean Wave into the United States and breaking numerous sales records.', 'They became the first Korean group to receive a certification from the Recording Industry Association of America (RIAA) for their single \"Mic Drop\", as well as the first Korean act to top the US Billboard 200 with their studio album Love Yourself: Tear (2018).', 'BTS became one of the few groups since the Beatles to earn four US number-one albums in less than two years, and Love Yourself: Answer (2018) was the first Korean album certified Platinum by the RIAA.', 'In 2020, BTS became the first all-South Korean act to reach number one on the Billboard Global 200 and US Billboard Hot 100 with their Grammy-nominated single \"Dynamite\".', 'Their follow-up releases \"Savage Love\", \"Life Goes On\", \"Butter\", and \"Permission to Dance\" made BTS the act quickest to accumulate five US number-one singles since Michael Jackson.', 'Having sold over 32 million albums on the Gaon Music Chart, BTS is the best-selling artist in South Korean history and holds the best-selling album in South Korea with Map of the Soul: 7.', \"They are the first Asian and non-English speaking act to be named the International Federation of the Phonographic Industry's (IFPI) Global Recording Artist of the Year (2020–2021), to chart on Billboard's Top Touring Artists of the 2010s (placing at number 45), and to headline and sell out Wembley Stadium and the Rose Bowl (Love Yourself World Tour in 2019).\", 'Featured on Time\\'s international cover as \"Next Generation Leaders\" and dubbed \"Princes of Pop\", BTS has also appeared on the magazine\\'s lists of the 25 most influential people on the internet (2017–2019) and the 100 most influential people in the world (2019).', \"The group's numerous accolades include six American Music Awards, 12 Billboard Music Awards, 24 Golden Disk Awards, and nominations for two Grammy Awards and two Brit Awards.\", 'Outside of music, they partnered with UNICEF to establish the Love Myself anti-violence campaign, addressed three sessions of the United Nations General Assembly, and became the youngest ever recipients of the Order of Cultural Merit from the President of South Korea due to their contributions in spreading Korean culture and language.', 'Name\\n\\nThe group\\'s name, BTS, stands for the Korean phrase Bangtan Sonyeondan (Korean: 방탄소년단; Hanja: 防彈|少年|團), literally meaning \"Bulletproof Boy Scouts\".', 'According to member J-Hope, the name signifies the group\\'s desire \"to block out stereotypes, criticisms, and expectations that aim on adolescents like bullets\".', '[6][7] In Japan, they are known as Bōdan Shōnendan (防弾少年団), which translates similarly.', '[8] In July 2017, BTS announced that their name would also stand for \"Beyond the Scene\" as part of their new brand identity.', '[9] This extended their name to mean \"growing youth BTS who is going beyond the realities they are facing, and going forward.', '\"[10]\\n\\nBTS in 2013 performing at the Incheon Music Center\\n\\nCareer\\n\\n2010–2014: Formation and early years\\n\\nBTS was formed in 2010 after Big Hit Entertainment CEO Bang Si-hyuk met RM and was impressed by his rapping skills.', \"[11] BTS was originally supposed to be a hip hop group similar to YG Entertainment's 1TYM,[12] but soon after the group was created, Bang Si-hyuk decided to create an idol group similar to Seo Taiji and Boys, a group which was popular in the 90's.\", \"However, unlike Seo Taiji's music, BTS' songs were less socially conscious, given the strict regulation of K-pop bands at the time of the group's formation.\", '[13] Originally slated to debut in 2011, the group featured on several tracks by artists like 2AM and Lee Seung-gi before their debut was postponed.', 'They were later reorganized into a more traditional idol group.', '[14] Six months prior to their debut, they began to gain attention for their presence on various social media websites, as well as song covers on YouTube and SoundCloud.', '[15][16]\\n\\nWe started to tell the stories that people wanted to hear and were ready to hear, stories that other people could not or would not tell.', 'We said what other people were feeling—like pain, anxieties and worries.', 'That was our goal, to create this empathy that people can relate to.', '—Suga[17]\\n\\nOn June 12, 2013, BTS released their debut single album 2 Cool 4 Skool (the first entry in their \"school trilogy\" series), along with the lead single \"No More Dream\", which quickly fell off the charts.', '[18][19] The album, however, reached the top five in South Korea on the Gaon Music Chart.', '[20] Their subsequent single, \"We Are Bulletproof Pt.', '2\", failed to chart.', 'In 2 Cool 4 Skool, BTS employed an old-school hip-hop sound from the 1980s–90s.', \"[21] The single album's release was followed by several appearances on Korean music shows.\", \"[22][23] Despite being unpolished, critics say these early live performances demonstrated BTS' potential.\", '[22] Expanding their endeavors to Japan, \"No More Dream\" was re-recorded in Japanese and released in June 2014.', '[24]\\n\\nIn September 2013, BTS released the second entry in their \"school trilogy\": the extended play O!RUL8,2?', 'This record was released alongside the single \"N.O,\".', '[25] Despite several performances on Korean music shows, the single quickly fell off the charts.', \"[26] That same month, BTS starred in their own variety show, SBS MTV's Rookie King Channel Bangtan, in which members parodied variety shows such as VJ Special Forces and MasterChef Korea.\", '[27] At the end of the year, BTS was recognized with several New Artist of the Year awards, including at the 2013 Melon Music Awards, 28th Golden Disc Awards, and the 23rd Seoul Music Awards.', '[28][29][30]\\n\\n2014–2017: Mainstream and international breakthrough\\n\\nModerate success and first concert tour\\n\\nExterior of the nightclub Troubadour (photo taken 2006) where BTS held their first concert in the US for free\\n\\nThe last entry in their \"school trilogy\", the Skool Luv Affair EP, was released in February 2014.', \"[5] The release topped the Gaon Album Chart,[31] and it also appeared on Billboard's World Albums Chart for the first time, peaking at number three.\", '[5][32] The EP was supported by the singles: \"Boy in Luv\" (Korean: 상남자; RR : Sang-namja) and \"Just One Day\" (Korean: 하루만; RR : Haruman).', \"[33] Following Skool Luv Affair's release, BTS made several appearances on Korean music shows, and they held their first fan meeting in Seoul.\", '[34][35] That July, BTS hosted a free concert in West Hollywood (their first show in the United States),[36] and in August, they appeared at KCON in Los Angeles.', '[37]\\n\\nIn August 2014, BTS also released their first Korean studio album, Dark & Wild, which peaked at number two in South Korea.', '[38] It was supported by two singles: \"Danger\" and \"War of Hormone\" (Korean: 호르몬 전쟁; RR : Horeumon Jeonjaeng).', '[39] In terms of style, the album served as an aesthetic extension of the group\\'s \"school trilogy\", while also functioning as a transition to their future releases.', '[40] Following several appearances on Korean music shows,[41] BTS embarked on their first concert tour, 2014 BTS Live Trilogy Episode II: The Red Bullet, which lasted from October to December.', '[42] The band released their first Japanese studio album, Wake Up (2014), that December; the release peaked at number three on the Oricon Albums Chart.', '[43] In support of the album, BTS held their 1st Japan Tour 2015 Wake Up: Open Your Eyes in February 2015.', '[44] In March, BTS then held their second solo concert in South Korea, BTS Live Trilogy Episode I: BTS Begins, to a crowd of 6,500 fans.', '[45]\\n\\nMainstream breakthrough and commercial success\\n\\nShifting their sound and image from masculine hip hop to more diverse styles,[46] BTS wanted to express the beauty and anxiousness of youth and settled on the title of \"花樣年華\" (Korean: 화양연화; RR : Hwayangyeonhwa), loosely interpreted to define \"youth\" as \"the most beautiful moment in life.', '\"[47] Their third EP, The Most Beautiful Moment in Life, Part 1, explored the highs and lows of youth as well as its playful and uplifting sides.', '[46] The album served as an introduction to their youth trilogy, a group of albums dedicated to the struggles of youth.', '[10] Its lead single \"I Need U\" was BTS\\' first top five hit in South Korea and garnered the group their first ever music show win on SBS MTV\\'s The Show.', '[48][49] The album\\'s second single, \"Dope (Korean: 쩔어; RR : Jjeoreo),\" peaked at number three on Billboard\\'s World Digital Songs Chart and became their first music video to receive over 100 million views on YouTube.', '[50][51] The group began the world tour extension of their Red Bullet Tour in June, titled 2015 Live Trilogy Episode II: The Red Bullet, visiting cities throughout Asia, Oceania, North America, and Latin America.', '[42] Their fourth Japanese single, \"For You\", was released on June 17 to celebrate the first anniversary of their Japanese debut and topped Oricon\\'s daily chart.', '[52]\\n\\nIn November, BTS commenced their third concert tour, 2015 BTS LIVE \"The Most Beautiful Moment in Life: On Stage\", debuting their new song and the lead single from their fourth EP The Most Beautiful Moment in Life, Part 2, \"Run\", during the Seoul dates.', '[53] Thematically, the EP focused more on the serious and speculative aspects of youth, touching on the pursuit of success, loneliness, affection for their origins, and the suffering of the younger generation due to unfavorable conditions in current society.', '[54] The album topped the weekly Gaon Album and Billboard World Albums charts.', '[55][56] It also marked their first appearance on the Billboard 200 chart.', '[57]\\n\\nBTS performing at KCON France in Paris on June 2, 2016\\n\\nTheir first Korean compilation album and the finale to their \"youth trilogy\", The Most Beautiful Moment in Life: Young Forever, was released in May 2016.', 'It included three new singles: \"Epilogue: Young Forever\", \"Fire\" (Korean: 불타오르네; RR : Bultaoreune), and \"Save Me\".', '[58] The album topped Gaon Weekly Chart in South Korea for two consecutive weeks and became their second consecutive release to chart on the US Billboard 200, peaking at number 107.', \"[59][60][61] The Most Beautiful Moment in Life: Young Forever later won BTS' first major Korean award for Album of the Year at the 2016 Melon Music Awards.\", '[62] BTS embarked on their Asia tour extension, 2016 BTS LIVE \"The Most Beautiful Moment in Life On Stage: Epilogue\" from May to August.', '[63] During their tour, BTS held a landmark two-day concert at the Olympic Gymnastics Arena in Seoul in May,[64] and performed as first time headliners at both US KCON shows held that year in Newark and Los Angeles.', '[65][66]\\n\\nBTS win their first major Korean award for Album of the Year at the 2016 Melon Music Awards on November 19, 2016.', 'In September 2016, BTS released their second Japanese studio album Youth.', '[67] Wings combined the themes of youth presented in their previous \"youth trilogy\" with temptation and adversity.', '[68] The lead single \"Blood Sweat & Tears\" achieved a music chart \"all-kill\" in South Korea and became their first number one hit on the weekly Gaon Digital Chart.', '[69][70] Wings opened at number 26 on the US Billboard 200.', '[71] It was their first million seller album,[72] moving over 1.5 million copies in South Korea that year and becoming the best-selling album in Gaon Album Chart history.', '[73]\\n\\nInternational expansion and collaborations\\n\\nIn February 2017, BTS released the repackaged edition of Wings entitled You Never Walk Alone.', 'Pre-orders of the repackaged broke the record for most albums sold in a month.', '[74][75] The repackage included its lead single \"Spring Day\".', \"[76] Embodying nostalgia and sorrow, it opened a new chapter in BTS' aesthetics and lyricism and attracted many fans.\", \"[68] It entered the US Billboard's Bubbling Under Hot 100 singles chart.\", '[77] \"Spring Day\" later won Best Song of the Year at the 2017 Melon Music Awards.', \"[78] In conjunction with the release of You Never Walk Alone, BTS' second world tour, 2017 BTS Live Trilogy Episode III: The Wings Tour, began in February and ran until December.\", 'On the tour, BTS began to play progressively larger venues, moving from halls into arenas and domes.', 'Tickets for the North American leg sold out within minutes and two additional shows were added due to high demand, making BTS the first K-pop act to sell out arenas in the US.', '[79][80] After completing their North American leg, BTS attended the 24th Billboard Music Awards in May and won Top Social Artist, becoming the first Korean group awarded a Billboard Music Award.', '[81]\\n\\nBTS at their press conference in Seoul, South Korea after winning Top Social Artist at the 24th Billboard Music Awards on May 29, 2017\\n\\nCelebrating Korean music icon Seo Taiji\\'s 25th anniversary as a part of his anniversary project \"Time: Traveler\", BTS released a remake of Seo Taiji\\'s 1995 classic \"Come Back Home\" in July 2017, reworking the sound and lyrics to similar sentiments toward societal change that Seo Taiji originally wrote with BTS now \"maintaining its originally intensely dark feeling\".', '[82] BTS was later invited by Seo Taiji to perform as backup vocalists and dancers for eight songs in his Seoul Olympic Stadium concert held early September.', '[83][84] Following the depiction of growth and temptation in Wings (2016) and consolation in You Never Walk Alone (2017), BTS embarked on their \"Love Yourself\" series which sought the enlightenment of self-love through the \"起承轉結\" (Korean: 기승전결; RR : Giseungjeongyeol) narrative sequence of \"beginning, development, turn, and conclusion.', '\"[85] In September 2017, BTS released the first part of the series, their fifth EP, Love Yourself: Her.', '[86][87] The EP was supported by two singles: the lead single \"DNA\" and a Steve Aoki remix of their song \"Mic Drop\" featuring American rapper Desiigner.', 'The EP represented the \"承,\" or \"development\" of the series and is considered by RM to be one of the major turning points in BTS\\' career.', '[88] Sonically, the EP served as \"a dual exploration of the group\\'s electro-pop and hip-hop leanings\".', '[89]\\n\\nBTS at the 45th American Music Awards shortly before making their debut performance on US television on November 19, 2017\\n\\nCommercially, BTS continued to hit new career heights with the Love Yourself: Her EP, debuting at number seven on the Billboard 200.', \"[90] In South Korea, the EP sold over 1.2 million copies on the Gaon Album Chart in its first month, achieving the highest monthly album sales in the chart's history and the highest on any Korean chart in 16 years, second to g.o.d's Chapter 4 album in 2001.\", '[91] The single \"DNA\" was released simultaneously with the EP and debuted at number two in South Korea.', '[92] \"DNA\" also became the group\\'s first entry on the Billboard Hot 100, making BTS the first K-pop boy band to do so and the second Korean act with a Korean-language song following Psy\\'s \"Gangnam Style\".', '[93] The following week, \"DNA\" rose to number 67 and became the highest-charting song on the Billboard Hot 100 for a K-pop group, beating Wonder Girls\\' previous record at number 76.', '[94] The following single \"Mic Drop (Remix)\" peaked at number 28 on the Billboard Hot 100, becoming the first top 40 entry for a K-pop group on the chart.', '[95][96] Both \"Mic Drop Remix\" and \"DNA\" were later certified Gold by the Recording Industry Association of America (RIAA)[97] making BTS the first and only South Korean artist to receive two certifications.', '[98] \"Mic Drop\" went on to receive Platinum certification in November 2018, making BTS the first Korean group with a Platinum-certified single in the US.', '[99] In December 2017, \"DNA\" and \"Mic Drop\" were released as a triple-A side single in Japan with the new song \"Crystal Snow\",[100] which topped the Oricon Chart.', '[101] BTS became the only foreign artist to have a single certified double platinum by the RIAJ that year.', '[102]\\n\\nIn November 2017, BTS became the first K-pop group to perform at the American Music Awards.', \"[103][104][105] In December, they also became the first K-pop group to perform on Dick Clark's New Year's Rockin' Eve[106] and made their Japanese TV music show debut on TV Asahi's Japan Music Station Super Live.\", '[107] At the end of the year, BTS won their second Artist of the Year at the 19th Mnet Asian Music Awards,[108] becoming the first act to win the award two years in a row.', '[109] They also became the first artist outside of the top three Korean pop music agencies (SM, YG and JYP) to win major awards at the Golden Disc Awards[110] and the Seoul Music Awards, respectively.', \"[111]\\n\\n2018–2020: Continued worldwide success\\n\\nWorldwide recognition and Love Yourself album series\\n\\nIn the lead up to their next album, BTS released an original eight-episode documentary series exclusively on YouTube Premium entitled Burn the Stage that ran from March until May 2018, offering a behind-the-scenes look at the group's 2017 Wings Tour.\", '[112][113] In April, the group also released their third Japanese studio album, Face Yourself,[114] which debuted at number 43 on the Billboard 200 as the third-highest-charting Japanese album in the history of the chart.', '[115] In conjunction with the release of Face Yourself, the group released a nine-minute short film titled \"Euphoria: Theme of Love Yourself: Wonder\" featuring the song \"Euphoria\".', '[116] In May 2018, BTS released their third Korean-language studio album, Love Yourself: Tear in conjunction with an appearance at the 25th Billboard Music Awards.', '[117] At the show, BTS had their first performance with the premiere of their lead single, \"Fake Love\"[118][119] and won Top Social Artist, making them the only Korean artist to win the award two years in a row.', '[120][121] In the narrative sequence, the album coincided with the \"轉\" or \"turn\" of the series, touching on the tortuous enlightenment of loving without being loved and encouragement to those without dreams.', \"[122]\\n\\nLove Yourself: Tear on May 24, 2018 BTS at their press conference foron May 24, 2018\\n\\nCommercially, Love Yourself: Tear became one of BTS' best selling albums.\", \"The album debuted at number one on the US Billboard 200, becoming BTS' first number one album in the US, the first K-pop album to top the US albums chart, and the highest-charting album by an Asian act.\", \"[123] Love Yourself: Tear also became BTS' first top ten hit in the UK, reaching number eight on the UK Albums Chart.\", '[124] Their single \"Fake Love\" became their first top ten hit on the Billboard Hot 100, becoming the seventeenth non-English song to reach the top ten and the first by a South Korean group.', '[125] At the conclusion of the Love Yourself series, BTS released their second Korean compilation album Love Yourself: Answer in August 2018,[126] which contained songs from the previous Love Yourself releases along with seven additional new tracks.', '[127] The album was supported by the lead single \"Idol\" and the alternative digital release featuring Nicki Minaj.', \"[128][129]\\n\\nCommercially, Love Yourself: Answer sold over 1.9 million copies on the Gaon Album Chart in August 2018, breaking the chart's all-time monthly record once again.\", \"[130] The album became BTS' second number-one album on the US Billboard 200 and their highest sales week in the country at that time,[131] making BTS the only K-pop act with two Billboard 200 toppers and the first pop act with two number one albums in less than a year since One Direction topped the chart with Midnight Memories in 2013 and Four in 2014.\", '[131] Love Yourself: Answer later became the first Korean language album to be certified Gold by the RIAA in November.', '[99] In Canada, Love Yourself: Answer became the group\\'s first number-one album on the Canadian Albums Chart and the single \"Idol\" also reached number five on the Canadian Singles Chart, marking BTS\\' first top-ten hit in Canada.', '[132] In the US, \"Idol\" peaked at number 11 on the Billboard Hot 100.', '[133] Later, \"Idol\" and Love Yourself: Answer received platinum certifications, both selling more than 1 million certified units in the US.', '\"Idol\" became the group\\'s third Platinum single while Answer became the group\\'s first Platinum album, making BTS the first Korean artist to attain this certification in the US.', \"[134]\\n\\n[135] New York City's Citi Field , the venue for BTS' first stadium concert in the US, sold out in 20 minutes.\", \"In conjunction with Love Yourself: Answer's release in August 2018, BTS commenced their third world tour, BTS World Tour: Love Yourself, with a landmark concert in the Seoul Olympic Stadium, the largest stadium in South Korea.\", '[136] During their tour, BTS also featured on Steve Aoki\\'s single \"Waste It on Me\" released that October, which was their first all-English language feature.', '[137][138] For the final stop of the North American leg, the group performed at Citi Field in Queens, marking the first time a Korean act performed at a US stadium.', '[139] According to StubHub, BTS was the second best-selling concert act outside the US, behind Ed Sheeran.', '[140] That October, with more than a year remaining in their contract, BTS renewed their contract with Big Hit Entertainment through 2026.', \"[141]\\n\\nIn early November 2018, a popular Japanese music show cancelled BTS' performance, citing a T-shirt a member wore the year before.\", '[142] In the same month, the Jewish human rights organization Simon Wiesenthal Center (SWC) stated that BTS owed an apology for the shirt in 2017, clothing with Nazi symbolism, and a flag.', '[143] Big Hit Entertainment issued an apology, explaining that the images on the clothing were not intended to be hurtful to the victims of Nazism or atomic bombings and that the group and management would take steps to prevent future mistakes.', 'They also stated the flags were meant to be a commentary on the Korean school system.', '[144] The apology was accepted by SWC and the Korean Atomic Bomb Victim Association.', \"[145][146] At the 20th Mnet Asian Music Awards, BTS won their third consecutive Artist of the Year and ranked number eight on Billboard's year-end Top Artist Chart and were also the number two act of the year in the Duo/Group ranking, only behind Imagine Dragons.\", '[147][148] They also made the Bloomberg 50 due to their \"willingness to address social issues, mental health, and politics, despite being in a genre often painted as bubble gum pop\".', '[149]\\n\\nMap of the Soul: Persona, stadium world tour and BTS World\\n\\nIn February 2019, BTS attended the 61st Grammy Awards for the first time as award presenters following their appearance at the LA Grammy Museum in 2019.', \"[150][151] In April, Time named them as one of Time 100's most influential people of 2019.\", '[152] Their sixth EP, Map of the Soul: Persona, was released on April 12 with the lead single \"Boy with Luv\" (Korean: 작은 것들을 위한 시; RR : Jageun geotdeureul wihan si), featuring American singer Halsey.', \"[153] The EP's release was followed by a performance on Saturday Night Live, as the first Korean act to do so.\", \"[154] Map of the Soul: Persona became the first Korean-language album to reach the number one position in both the UK and Australia[155][156] and the group's third consecutive album to top the Billboard 200 and the third within eleven months, joining the likes of the Beatles, who achieved the same feat in 1995–96.\", 'BTS are also the fastest group to get three number one albums since the Monkees in 1967.', '[157] Map of the Soul: Persona later became the best-selling album ever in South Korea, with more than 3.2 million sales in less than a month.', 'Prior to BTS, the best-selling lists were dominated by late 1990s albums, making BTS the only act formed after 2000 to be featured in the top 10 best-selling list.', '[158] \"Boy with Luv\" debuted at number 8 on the Billboard Hot 100, the highest in history for a Korean group in April 2019.', '[159] \"Boy with Luv\" was certified Silver in the UK by the BPI for selling over 200,000 units.', '[160]\\n\\nFollowing their two wins at the 26th Billboard Music Awards in May, including for Top Duo/Group, BTS embarked on their world tour stadium extension, Love Yourself: Speak Yourself.', '[161] With this, they became the first Asian and first non-English speaking artists ever to headline and sell out Wembley Stadium.', '[162][163] Due to the high demand, BTS added more shows after tickets for the first dates sold out within two hours.', '[164] In the lead up to the release of their mobile game BTS World in June 2019, BTS released three collaboration singles, \"Dream Glow\" featuring Charli XCX,[165] \"A Brand New Day\" with Zara Larsson,[166] and \"All Night\" with Juice Wrld.', '[167] The group also released the song \"Heartbeat\" with a music video from the game\\'s official soundtrack, titled BTS World: Original Soundtrack.', '[168] The soundtrack was later certified Double Platinum by Gaon, the first soundtrack album to receive the certification since Gaon implemented it in 2018.', '[169] BTS released their tenth Japanese single \"Lights\" on July 3.', '[170] Pre-orders for the double A-side single surpassed 1 million copies, breaking a 24-year-old record for foreign artists previously held only by Celine Dion with her 1995 single \"To Love You More\", and marked the first time a Korean artist achieved a million shipment for a single in Japan.', '[171][172] \"Lights\" went on to sell over 1 million copies and received Million certification by the RIAJ on August 8, the first time a male act achieved this since Masafumi Akikawa\\'s August 2007 single, \"A Thousand Winds\".', \"It is BTS' first million certification in Japan.\", '[173]\\n\\nLove Yourself: Her and Love Yourself: Tear both crossed 2 million copies in August,[174] All three albums of the Love Yourself series have sold more than 2 million copies each in South Korea.', 'Love Yourself: Tear later attained Silver in the UK, becoming their third album to be attain this certification following Love Yourself: Answer and Map of the Soul: Persona.', \"[175] For the final stop of their record-breaking Love Yourself: Speak Yourself World Tour, the group held a run of three sold-out nights at Seoul's Olympic Stadium.\", '[176] BTS was the top-grossing touring group of 2019.', '[177] That same month, the group released a remix version of the song \"Make It Right\" featuring Lauv as the second single from their album Map of the Soul: Persona.', '[178] In November, BTS became the first K-pop group to win Favorite Duo or Group – Pop/Rock at the 2019 American Music Awards and Favorite Social Artist consecutively (2018 and 2019).', '[179]\\n\\nIn December, they attended both the 2019 Melon Music Awards and 2019 Mnet Asian Music Awards.', 'The group became the first artists in the history of K-pop to receive all grand prizes from both ceremonies; getting four from each awards show.', '[180][181][182] At the 34th Golden Disc Awards, BTS became the first artists in history to win grand prizes in both the physical and digital categories in a single year.', \"[183] Map of the Soul: Persona was named the second best-selling physical album of 2019 in the US by Nielsen Music only behind Taylor Swift's Lover and was ranked sixth overall on the chart of Top 10 Albums (Total Sales) in the US[184] BTS wrapped 2019 as the fourth highest ranked group on Billboard's Top Billboard 200 Artists–Duo/Group ranking, only behind Queen, Imagine Dragons and the Beatles.\", '[185] Map of the Soul: Persona was named as the third best-selling album of 2019 by the International Federation of the Phonographic Industry, making BTS the first Korean artist to be listed on the Global Top 10 Album Chart for two consecutive years.', \"[186][187][188] Map of the Soul: Persona was also the second best-selling global album by a band only behind Arashi's 5x20 All the Best!!\", '1999–2019.', \"[189] Attributing to the album's critical and commercial success worldwide, the IFPI named BTS as one of the best-selling artists of 2019 for a second consecutive year, making them the first non-English speaking act to achieve this.\", '[190][191]\\n\\nMap of the Soul: 7, \"Dynamite\" and Be\\n\\nIn January 2020, BTS released \"Black Swan\" along with a choreography art film performed by MN Dance Company as the first single from their fourth Korean-language studio album, Map of the Soul: 7.', '[192][193] Album distributor Dreamus reported that stock pre-orders of the album reached a record-breaking 4.02 million, breaking the previous record of 2.68 million held by Map of the Soul: Persona.', '[194] Later that month, BTS performed alongside Lil Nas X, Billy Ray Cyrus, Diplo and Nas at the 62nd Annual Grammy Awards, making BTS the first Korean act to perform at the Grammys.', '[195][196] Map of the Soul: 7 was released on February 21 to universal acclaim.', '[197][198] The album was supported by the lead single \"On\" and an alternative digital release featuring Australian singer Sia.', '[199] According to Gaon Chart, Map of the Soul: 7 sold over 4.1 million copies in just nine days after its release, surpassing the record held by their previous album Map of the Soul: Persona to become the best-selling album in South Korean history and the first album to be certified Quadruple Million.', '[200] The album debuted atop the US Billboard 200 making BTS the fastest group to earn four number one albums since the Beatles in 1968.', '[201] The lead single \"On\" debuted at number four on the Billboard Hot 100 becoming BTS\\' first top five and their biggest sales week for a song.', \"[202] It was the group's third top-ten single, giving them more top-ten entries of any Korean act on the Hot 100 chart.\", '[203] In support of the Map of the Soul album series, BTS were set to embark on their fourth worldwide concert tour and second stadium tour, Map of the Soul Tour, beginning in April.', '[204] However, the initial Seoul dates were cancelled due to the COVID-19 pandemic,[205] and the rest of the world tour was eventually cancelled.', '[206]\\n\\nIn April, BTS became the first South Korean artist to sell more than 20 million albums cumulatively—previously Shin Seung-hun held the record with 17 million albums sold[207]—making them the best-selling artist in South Korean history.', '[208][209] That month, BTS held a two-day online streaming concert event titled Bang Bang Con, where the group shared footage of past concerts on their YouTube channel.', '[210] The virtual concert series was hosted in response to Map of the Soul Tour that had been postponed earlier in the year.', '[211][212] On June 7, BTS headlined YouTube\\'s Dear Class of 2020 online graduation event, performing \"Boy with Luv\", \"Spring Day\", and \"Mikrokosmos\".', 'Their commencement speeches highlighted their own graduations and offered \"messages of hope and inspiration for the class of 2020 in both Korean and English\".', '[213] On June 14, BTS held a 100-minute long online live concert, Bang Bang Con: The Live, as a part of their seventh debut anniversary.', 'The concert was the first collaborative effort between Big Hit and Kiswe, a live streaming solution company in the US.', 'It garnered 756,000 concurrent viewers in 107 countries and territories, setting the record for the largest audience for a paid virtual concert.', '[214] On June 19, BTS released the Japanese single, \"Stay Gold\", from their fourth Japanese studio album, Map of the Soul: 7 – The Journey, which was released in Japan and digitally worldwide on July 14.', \"[215][216] It surpassed 564,000 copies in its first week, breaking the 10-year record previously held by TVXQ's Best Selection 2010 for highest first week album sales by a male foreign artist in Japan.\", '[217]\\n\\nBTS released their first English-language single, \"Dynamite\", on August 21.', '[218] \"Dynamite\" debuted at number one on the US Billboard Hot 100 chart becoming the fastest-selling single since Taylor Swift\\'s \"Look What You Made Me Do\" (2017)—earning BTS their first chart topper and making them the first all-South Korean act (second Asian act overall) to earn a number one single in the US.', \"[219] In its fifth tracking week, the single also reached number one on Billboard's new Global 200 and Global Excluding US charts, becoming the first single to top both simultaneously.\", '[220] In its sixth tracking week, \"Dynamite\" spent its sixth consecutive week at number one on the Digital Song Sales chart and rose to the 39th spot on the Radio Songs chart, becoming their first Top 40 entry on US\\'s overall radio chart.', '[221] It continued rising and peaked at number 20, becoming their first Top 20 entry on the Radio Songs chart.', '[222] It peaked at number nine on the US Mainstream Top 40, also known as the Pop Songs chart, becoming their first Top 10 entry and the highest-charting entry by a Korean act.', '[223][224] The single debuted at number three on the UK Singles Chart[225] and number two on the Australian singles chart,[226] becoming their highest-charting single in both countries.', 'On August 31, BTS made their MTV Video Music Awards (VMAs) debut with the first live performance of \"Dynamite\"[227] and won four awards: Best Group, Best Choreography, Best Pop Video, and Best K-pop (the last three for their music video for \"On\").', '[228] On October 14, they performed the single at the 2020 Billboard Music Awards and won the Top Social Artist award, becoming their fourth consecutive year of winning the award.', '[229]\\n\\nOn October 2, BTS released a remix of Jawsh 685 and Jason Derulo\\'s single \"Savage Love (Laxed – Siren Beat)\".', \"[230] It topped the Billboard Hot 100 chart, marking the group's second number one entry in the US.\", '\"Dynamite\" remained at number two, making BTS the fourth group (after the Beatles, Bee Gees, and OutKast) to simultaneously occupy the top two spots on the Hot 100.', \"[231] The single also topped the Billboard Global 200, becoming their second number one entry and making BTS the first artist to have multiple songs top Billboard's recently created global singles chart.\", '[232] On October 10 and 11, BTS hosted a two-day virtual pay-per-view concert, at KSPO Dome in Seoul, called Map of the Soul ON:E, which broke their own world record for Most viewers for a paid virtual concert live stream.', \"[233][234] They re-released their 2014 album Skool Luv Affair in October, debuting in the Top 10 of Billboard's Rap Albums chart and becoming their first entry on the genre-specific chart.\", '[235] On November 20, BTS\\' fifth Korean studio album Be was released, with \"Life Goes On\" as its lead single.', '[236] On November 24, BTS became the first Korean pop artists to be recognized by the Recording Academy when \"Dynamite\" received a nomination for Best Pop Duo/Group Performance at the 63rd Annual Grammy Awards.', '[237] On November 30, 2020, \"Life Goes On\" debuted at number one on the Billboard Hot 100 chart.', \"[238] With this, BTS achieved their third consecutive number one on the Hot 100 in just three months—the fastest of any band since the Beatles in 1964 to do so—and became the first group in the chart's history to have two number one debuts, as well as seven songs appearing simultaneously on the chart.\", '\"Life Goes On\" became the first song performed primarily in Korean to debut in the top spot.', '[239][240] The group won the Special International Music Award at the 62nd Japan Record Awards.', '[241]\\n\\n2021–present: BTS, the Best, \"Butter\", \"Permission to Dance\" and Proof\\n\\nOn March 4, 2021, the IFPI named BTS its Global Recording Artist of the Year for 2020—they are the first Asian and first non-English speaking act to top the ranking.', '[242] BTS occupied three spots in the Global Album Sales Chart of 2020 with Map of the Soul: 7 coming at number one, Be (Deluxe Edition) at number two and Map of the Soul: 7–The Journey at number eight.', '[243] In the newly launched Global Album All Format Chart, Map of the Soul: 7 claimed the first position while Be (Deluxe Edition) claimed the fourth position.', '[244] BTS also received their first entry on the Global Digital Single Chart of 2020, with \"Dynamite\" placing tenth.', '[245] On March 14, BTS performed \"Dynamite\" at the 63rd Annual Grammy Awards, becoming the first Korean nominee to perform their own song on the show.', '[246] On April 1, BTS released \"Film Out\", the lead single for their upcoming Japanese compilation album.', '[247] BTS held another free online streaming event on their YouTube channel on April 17, this time titled Bang Bang Con 21, and aired three of their previous in-person concerts.', '[248]\\n\\nBTS released their second English-language single, \"Butter\", on May 21.', '[249] The song debuted at number one on the Billboard Hot 100 chart—their fourth number one within the last nine months—making them the quickest act to achieve four number ones since Justin Timberlake in 2006 and the fastest group since the Jackson 5 in 1970.', '[250] Their third English-language single, \"Permission to Dance\", was released on July 9.', \"[251] It became BTS' eighth number-one on the Digital Songs chart, extending their record as the group with the most number one hits on the ranking.\", '[252] The band released the collaboration single \"My Universe\" with Coldplay on September 24.', '[253] The single debuted at number one on the Billboard Hot 100, making it the first collaborative track in history to debut at number one with two lead groups.', '[254] In late-October, as part of an ongoing series of partnerships between Big Hit and Universal Music Group, BTS moved its distribution and marketing in the United States and several other countries from Columbia Records to Universal.', '[255] The band held an online concert, titled Permission to Dance on Stage, on October 24 in Seoul.', '[256] On November 23, \"Butter\" earned a Grammy nomination for Best Pop Duo/Group Performance at the 64th Annual Grammy Awards.', '[257] At the end of that month, BTS held their first live performances before an in-person audience since the pandemic began.', 'The band played four sold-out shows at SoFi Stadium in Los Angeles as a continuation of their Permission to Dance on Stage concert series.', '[258]\\n\\nOn January 15, 2022, a fictional webtoon based on BTS, titled 7Fates: Chako, was released.', 'The comic surpassed 15 million views globally in its first two days of availability and became the highest-viewed title ever launched by Webtoon.', '[259][260] The band held three limited-capacity concerts at Seoul Olympic Stadium on March 10th, 12th, and 13th.', 'The concerts were the largest-approved music gatherings[a] by the South Korean government since pandemic restrictions were put in place, with a total attendance of 45,000.', '[261][262] On April 3, BTS performed \"Butter\" at the 64th Grammys.', '[263] On April 8, the band received seven nominations at the upcoming 2022 Billboard Music Awards, making them the most-nominated duo/group in BBMA history.', '[264] The band\\'s upcoming anthology album, Proof, is slated for release on June 10,[265][266] serving \"Yet to Come (The Most Beautiful Moment)\" as its lead single.', \"[267] The band continued its winning streak at the annual 2022 Billboard Music Awards, winning 3 additional awards, bringing their total Billboard Music Awards to 12 wins, making them the most-awarded group in the show's history, following their first win in 2017.\", '[268][269]\\n\\nArtistry\\n\\nInfluences\\n\\ncenter) performing BTS member Jin () performing Freddie Mercury \\'s \"ay-oh\" chant during their first concert at Wembley Stadium on June 1, 2019\\n\\nBTS have cited Seo Taiji and Boys,[270] Nas, Eminem, Kanye West, Drake, Post Malone, Charlie Puth, and Danger as musical inspirations.', '[271] They have also cited Queen as an influence, saying they \"grew up watching videos of Live Aid\".', 'During their concert at Wembley Stadium in London, Jin paid tribute to Queen by leading the crowd in a version of Freddie Mercury\\'s \"ay-oh\" chant from the band\\'s Live Aid concert.', '[272]\\n\\nBTS has also been influenced by many literary, psychological, artistic, and philosophical mediums.', \"Their album Wings (2016) was inspired by Hermann Hesse's coming of age novel, Demian.\", '[273] Their song \"Blood Sweat and Tears\" (2016) quotes Friedrich Nietzsche\\'s Thus Spoke Zarathustra, and its music video features visual references to Herbert James Draper\\'s The Lament for Icarus, Pieter Bruegel\\'s Landscape with the Fall of Icarus, and Pieter Bruegel\\'s The Fall of the Rebel Angels.', '[274] Their \"Spring Day\" (2017) music video contains lyrical and visual references to Ursula Le Guin\\'s short story The Ones Who Walk Away from Omelas.', '[275] The Love Yourself series was primarily influenced by Erich Fromm\\'s The Art of Loving,[276] while their song \"Magic Shop\" from Love Yourself: Tear (2018) was inspired by James R. Doty\\'s memoir Into the Magic Shop.', \"[277] Their 2019 album, Map of the Soul: Persona gained its name from Murray Stein's Jung's Map of the Soul: An Introduction.\", '[278]\\n\\nMusical style\\n\\nBTS co-write and produce much of their own output.', \"[279][280] Since their inception, BTS have had an emphasis on hip hop as their musical base largely due to the influence of RM and Suga's background as underground rappers[12] and their main producer Pdogg.\", '[281] Rather than adhering to a specific genre, BTS have introduced new elements into their sound and musical repertoire with each successive release.', '[282][283][284] Beginning with old-school hip hop on 2 Cool 4 Skool and O!RUL8,2?', 'in 2013,[21] BTS first experimented with R&B and rock on Skool Luv Affair and Dark & Wild in 2014;[285][40] orchestral strings and EDM in their The Most Beautiful Moment in Life album series (2015–16);[54] moombahton, neo soul, and gospel on Wings (2016) and You Never Walk Alone (2017);[286][68] future bass, Latin pop, and jazz hip hop in their Love Yourself album series (2017–18);[85] emo rap, rap rock, Afro pop, nu-disco, funk, trap, pop rock and pop rap in their Map of the Soul album series (2019–20);[287][288][289][290][291] and dance-pop and disco in their singles \"Dynamite\", \"Butter\", and \"Permission to Dance\" (2020–21).', '[292][293]\\n\\nLyrical themes\\n\\nSince their inception, BTS have believed that telling their story is the best way for the younger generation to relate to their music.', '[294] Writing the majority of their own lyrics,[279][280] the group incorporates universal life experiences, such as sadness and loneliness, in their work and turn them into something more light and manageable.', 'RM has stated that BTS tries to not sound as if they are preaching or reprimanding people in their songs, \"...because that\\'s not the way that we want to spread our message.', \"[...] We're born with different lives, but you cannot choose some things.\", 'So we thought that love, the real meaning of it, starts with loving ourselves and accepting some ironies and some destinies that we have from the very start\".', \"[295] When asked if it is difficult to write about things like mental health, Suga responded,\\n\\nWe feel that people who have the platform to talk about those things really should talk more, because they say depression is something where you go to the hospital and you're diagnosed, but you can't really know until the doctor talks to you.\", '[...] More and more, I think artists or celebrities who have a voice should talk about these problems and bring it up to the surface.', '[296]\\n\\nThe lyrical themes explored in the songs and albums of BTS have included diverse themes such as the issues of social identity in youth, anxieties of school-age youth, and mental health in youth culture.', \"[10] According to a 2017 analysis by Billboard magazine, BTS' albums contain recurring youth-related themes.\", '[10] Their \"school trilogy\" from 2013 to 2014 explored \"the troubles and anxieties of school-age youth.', '\"[297] In 2016, their approach to discussing youth culture issues in South Korea \"tackled a subject that the vast majority of youth experience, but few pop musicians articulate well: mental health and the desire to belong in society.', '\"[297] Wings (2016) focused on temptation and sin.', '[298] The \"Love Yourself\" series introduced various themes dealing with youth culture in South Korea including the excitement of love, the pains of farewell, and the enlightenment of self-love.', '[299] Their lyrics, which often include social commentary and criticisms of the interaction of South Korean youth culture with South Korean society, clearly reflect these.', '\"[297]\\n\\nIn 2018, songs such as \"No More Dream\" and \"N.O\" from their school trilogy were described by Tamar Herman as being motivated by their experiences with South Korea\\'s emphasis on education and called for change to the education system and societal expectations.', '[300] Their experiences with youth culture in South Korea inspired the songs \"Dope\" and \"Silver Spoon\" (Korean: 뱁새; RR : Baepsae) from their youth trilogy, referencing generational disparity and millennials giving up of romantic relationships, marriage, children, proper employment, homes, and social life in the face of economic difficulties and societal ills while facing condemnation from the media and older generations.', '[300]\\n\\n\"Am I Wrong\" from Wings (2016) questioned societal apathy towards the state of current events—the lyric \"We\\'re all dogs and pigs / we become dogs because we\\'re angry\" referenced the South Korean Ministry of Education official Na Hyang-wook, who was a proponent of the caste system and described the average person as \"dogs and pigs\", and BTS performed the song on television during the 2016 South Korean political scandal that led to the impeachment of ex-President Park Geun-hye.', '[300] RM and Suga\\'s personal struggles with mental health inspired songs like \"Tomorrow\", \"Intro: The Most Beautiful Moment in Life\", \"So Far Away\", \"The Last\", and \"Forever Rain.', '\"[301][302] \"Not Today\" from You Never Walk Alone (2017) is an anti-establishment anthem, with messages advocating for minority groups,[303] while \"Spring Day\" honored the victims of the Sewol Ferry tragedy.', '[304] BTS have been praised for \"speak[ing] honestly about topics they deem important, even in a conservative society\" by Jeff Benjamin in Fuse magazine.', '[305] South Korean president Moon Jae-in recognized their sincerity and inclusion of diversity as key to their success, writing, \"Each of the seven members sings in a way that is true to himself and the life he wants to live.', 'Their melody and lyrics transcend regional borders, language, culture, and institutions.', '\"[306]\\n\\nBTS performing at the Korea-France Friendship Concert in Paris on October 14, 2018\\n\\nImpact\\n\\nOn April 29, 2019 Time magazine named BTS on their \"The 100 Most Influential People\" of the year list, giving them the nickname \"Princes of Pop\".', \"[307] Billboard executive Silvio Pietroluongo compared BTS' commercial success and influence to that of the Beatles and the Monkees.\", '[308] MRC Data executive Helena Kosinski noted that \"although BTS weren\\'t the first to open the doors to K-Pop worldwide, they were the first to become mainstream.', 'They don\\'t just appeal to young people but also to the 50s and 60s age demographic\".', '[309] As the first non-English speaking artist to make the Global Artist Chart in 2018, BTS had the second and third best-selling albums worldwide and were the second best-selling artists worldwide across multiple media platforms, second only to Drake.', \"[310][311][312] In 2020, BTS became the first non-western and non-English speaking artist to be named IFPI's Global Recording Artist of the Year.\", '[242] In South Korea, BTS accounted for 41.9 percent of album sales in the first half of 2019, up from their market share of 25.3 percent the previous year.', '[313]\\n\\nIn March 2020, a video series, \"Learn Korean with BTS,\" was launched on the web platform app Weverse,[314] intended to \"make it easy and fun for global fans who have difficulty enjoying BTS\\' music and contents due to the language barrier.', '\"[314] The idea for the project emerged in reaction to fans asking for English subtitles for BTS\\' videos.', '[315] The series consists of thirty three-minute lessons on Korean expressions and grammar using footage from existing BTS content on YouTube and VLive, such as \"Run BTS!\"', 'and \"Bangtan Bomb.', '\"[314] The videos were developed in collaboration with experts at the Korean Language Content Institute and Hankuk University of Foreign Studies.', \"[314] BTS' work has influenced numerous artists, including (G)I-dle,[316] D-Crunch's Hyunho,[317] The Boyz' Younghoon and Hwall,[318] SF9's Zuho,[319] Euna Kim,[320] Golden Child's Jaehyun,[321] Wanna One,[322] IN2IT,[323] Park Ji-hoon,[324] Kim Dong-han,[325][326] Seven O'Clock,[327] Hyeongseop X Euiwoong,[328] Noir,[329] Victon's Sejun and Byungchan,[330] Loona,[331] Newkidd,[332] and Enhypen.\", \"[333]\\n\\nThe group's influence has led them to address the 73rd United Nations General Assembly[334][335] and perform before 400 officials, including South Korean president Moon Jae-in, at the 2018 Korea-France Friendship Concert in Paris, a summit celebrating the friendly relations between France and South Korea.\", '[336] That year, BTS also became the youngest ever recipients of the Order of Cultural Merit.', 'Despite cultural medals traditionally being given to recipients with over 15 years of notable achievements, President Moon recognized the group, five years into their career, for their contributions in spreading Korean culture and language worldwide.', '[337][338] In September 2019, BTS were mentioned by President Moon in his announcement for his \"3 major innovation strategies for the contents industry\" for having pioneered innovative business models that communicate directly with fans.', '[339] In 2020, BTS were bestowed the James A.', 'Van Fleet Award in recognition of their outstanding contributions to the promotion of US-Korea relations; to date, they are the youngest honorees and only musicians to receive the award in its history.', '[340] In July 2021, they were appointed Special Presidential Envoy for Future Generations and Culture by President Moon.', 'In their role as envoys, they help to \"raise awareness on global agendas, such as sustainable development, to our future generations and to strengthen the nation\\'s diplomatic power across the world\"[341] and represent South Korea at various international events, such as the 76th United Nations General Assembly.', '[342]\\n\\nEndorsements\\n\\nBTS have maintained numerous global endorsement deals in various industries throughout their career.', 'Partnered with Puma since 2015, BTS initially promoted its sportswear as Puma Korea\\'s brand ambassadors before expanding to become global ambassadors in 2018[343][344] and promoting the remix of Puma\\'s \"Turin\" and \"Sportstyle\" line worldwide.', '[345][346] In 2019, BTS signed with Fila to endorse its sportswear.', '[347] BTS has also served as global brand ambassadors for LG Electronics\\' 2018 LG G7 ThinQ telephone,[348] and Hyundai Motors\\' 2019 flagship SUV the \"Palisade\"[349] and hydrogen fuel cell electric SUV, the \"Nexo\".', \"[350] Due to BTS' endorsement, Hyundai received almost double the anticipated domestic order volume for the Palisade.\", '[351] BTS became global ambassadors of the electric street racing series Formula E to promote how electric vehicles can help combat climate change.', '[352] In 2020, BTS partnered with Samsung Electronics,[353] releasing a limited BTS-themed version of the Galaxy S20+ and Galaxy Buds+.', \"[354] As the first male pop group ever to collaborate with Dior, BTS sported ensembles from Kim Jones' Pre-Fall 2019 collection at their concert at Stade de France.\", '[355] The band became global brand ambassadors for Louis Vuitton in April 2021.', '[356]\\n\\nAwards\\n\\nBTS has been the recipient of many awards and honors, including 43 Mnet Asian Music Awards, 34 Melon Music Awards, 28 Golden Disc Awards, 23 Seoul Music Awards, seven Korean Music Awards, 27 Gaon Chart Music Awards, nine Billboard Music Awards, nine American Music Awards, and nine MTV Video Music Awards.', 'BTS is also the first group in history to win Top Song Sales Artist at the Billboard Music Awards and earn five consecutive wins for Top Social Artist.', '[357]\\n\\nHaving sold over 32.7 million albums on the Gaon Music Chart,[358] BTS is the best-selling musical artist in South Korean history,[359][360] and hold six multi-Million albums and five Platinum streaming singles.', '[361][362] In the United States, BTS is the first Korean group to receive RIAA certification, and currently holds one Triple Platinum single, one Double Platinum single, three Platinum albums, three Platinum singles, four Gold singles, and one Gold album.', '[363] In Japan, BTS is the first male foreign artist to receive a Million certification for a single,[364] and the only foreign artist to receive Diamond certification[b] for a single;[365] the group additionally has three multi-Platinum singles, two multi-Platinum albums, four Platinum albums, and five Gold albums in the country.', '[366] In the United Kingdom, BTS is the first Korean group to receive BPI certification, and currently holds seven Silver singles,[367] one Gold single,[368] one Platinum single,[369] five Silver album certifications,[370] and three Gold album certifications.', \"[371]\\n\\nMembers\\n\\nJin (진) – vocalist [372]\\n\\nSuga (슈가) – rapper [373]\\n\\nJ-Hope (제이홉) – rapper [374]\\n\\nRM – leader, rapper [375]\\n\\nJimin (지민) – vocalist [376]\\n\\nV (뷔) – vocalist [377]\\n\\nJungkook (정국) – vocalist[378]\\n\\nDiscography\\n\\nFilmography\\n\\nBTS' filmography and videography comprises multiple forms of media including exhibitions, films, television work, and online shows.\", 'Concert tours\\n\\nSee also\\n\\nNotes\\n\\n^ 15,000 attendees per day ^ for streaming']\n"
          ]
        }
      ]
    },
    {
      "cell_type": "code",
      "source": [
        "def greeting(text):\n",
        "  text=text.lower()\n",
        "  greetings=['namskar','hello','hi there']\n",
        "  user_greetings=['hello','hi','good mornings','good evening', 'good afternoon', 'hi there']\n",
        "  for word in text.split():\n",
        "    if word in user_greetings:\n",
        "      return random.choice(greetings)"
      ],
      "metadata": {
        "id": "EMYmVA2aubV7"
      },
      "execution_count": null,
      "outputs": []
    },
    {
      "cell_type": "code",
      "source": [
        "def index_sort(list_var):\n",
        "  length=len(list_var)\n",
        "  list_index=list(range(0,length))\n",
        "  x=list_var\n",
        "  for i in range(length):\n",
        "    for j in range(length):\n",
        "      if x[list_index[i]]>x[list_index[j]]:\n",
        "        temp=list_index[i]\n",
        "        list_index[i]=list_index[j]\n",
        "        list_index[j]=temp\n",
        "      return list_index "
      ],
      "metadata": {
        "id": "I5Kk3RNVwacI"
      },
      "execution_count": null,
      "outputs": []
    },
    {
      "cell_type": "code",
      "source": [
        "def bot_response(user_input):\n",
        "  user_input=user_input.lower()\n",
        "  sentence_list.append(user_input)\n",
        "  bot_response=''\n",
        "  cm=CountVectorizer().fit_transform(sentence_list)\n",
        "  similarity_scores=cosine_similarity(cm[-1].cm)\n",
        "  similarity_scores_list=similarity_scores.flatten()\n",
        "  index=index_sort(similarity_scores_list)\n",
        "  index=index[1:]\n",
        "  response_flag=0\n",
        "  j=0\n",
        "  for i in range(len(index)):\n",
        "    if similarity_scores_list[index[i]]>0.0:\n",
        "      bot_response=bot_response+''+sentence_list[index[i]]\n",
        "      response_flag=1\n",
        "      j=j+1\n",
        "    if j>2:\n",
        "      break\n",
        "    if response_flag==0:\n",
        "      bot_response=bot_response+''+\"sorry,can you repeat again?\"\n",
        "\n",
        "    sentence_list.remove(user_input)\n",
        "\n",
        "    return bot_response"
      ],
      "metadata": {
        "id": "29tWFOw2zHCv"
      },
      "execution_count": null,
      "outputs": []
    },
    {
      "cell_type": "code",
      "source": [
        "print('The_bot: Hi , I an a bot created by someone Tell me')\n",
        "\n",
        "exist_list=['bye','leave','see you soon','stop']\n",
        "\n",
        "while(True):\n",
        "  user_input=input()\n",
        "  if user_input.lower() in exist_list:\n",
        "    print('the bot :bye until then')\n",
        "    break\n",
        "  elif greeting(user_input)!=None:\n",
        "    print('The bot:'+greeting(user_input))  "
      ],
      "metadata": {
        "colab": {
          "base_uri": "https://localhost:8080/"
        },
        "id": "5MwsJA5lzd81",
        "outputId": "90ee2238-da98-4ec8-aa84-b0e4edade898"
      },
      "execution_count": null,
      "outputs": [
        {
          "output_type": "stream",
          "name": "stdout",
          "text": [
            "The_bot: Hi , I an a bot created by someone Tell me\n",
            "hi\n",
            "The bot:namskar\n",
            "bye\n",
            "the bot :bye until then\n"
          ]
        }
      ]
    },
    {
      "cell_type": "code",
      "source": [
        ""
      ],
      "metadata": {
        "id": "qfF3L5x22WKP"
      },
      "execution_count": null,
      "outputs": []
    }
  ]
}